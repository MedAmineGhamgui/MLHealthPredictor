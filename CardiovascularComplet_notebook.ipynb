{
 "cells": [
  {
   "cell_type": "code",
   "execution_count": 1,
   "metadata": {},
   "outputs": [],
   "source": [
    "import csv \n",
    "import pandas as pd \n",
    "import numpy as np\n",
    "import matplotlib.pyplot as plt\n",
    "import seaborn as sns\n",
    "%matplotlib inline\n",
    "from sklearn.preprocessing import LabelEncoder\n",
    "from sklearn.metrics import accuracy_score, classification_report, confusion_matrix\n",
    "from sklearn.ensemble import ExtraTreesClassifier\n",
    "from sklearn.ensemble import RandomForestClassifier\n",
    "from sklearn.feature_selection import SelectKBest\n",
    "from sklearn.feature_selection import chi2\n",
    "from sklearn.model_selection import train_test_split\n",
    "from sklearn.cluster import KMeans\n",
    "from sklearn.preprocessing import StandardScaler\n",
    "from sklearn.metrics import silhouette_score\n",
    "import seaborn as sns\n",
    "import matplotlib.pyplot as plt\n",
    "from sklearn.feature_selection import SelectKBest\n",
    "from sklearn.feature_selection import chi2\n",
    "from sklearn.model_selection import train_test_split\n",
    "import plotly.express as px\n",
    "import mlflow"
   ]
  },
  {
   "cell_type": "code",
   "execution_count": 2,
   "metadata": {},
   "outputs": [],
   "source": [
    "org=pd.read_csv(\"data/cardio_train.csv\",sep=\";\")"
   ]
  },
  {
   "cell_type": "code",
   "execution_count": 3,
   "metadata": {},
   "outputs": [
    {
     "data": {
      "text/plain": [
       "(70000, 13)"
      ]
     },
     "execution_count": 3,
     "metadata": {},
     "output_type": "execute_result"
    }
   ],
   "source": [
    "org.shape"
   ]
  },
  {
   "cell_type": "code",
   "execution_count": 4,
   "metadata": {},
   "outputs": [
    {
     "data": {
      "text/html": [
       "<div>\n",
       "<style scoped>\n",
       "    .dataframe tbody tr th:only-of-type {\n",
       "        vertical-align: middle;\n",
       "    }\n",
       "\n",
       "    .dataframe tbody tr th {\n",
       "        vertical-align: top;\n",
       "    }\n",
       "\n",
       "    .dataframe thead th {\n",
       "        text-align: right;\n",
       "    }\n",
       "</style>\n",
       "<table border=\"1\" class=\"dataframe\">\n",
       "  <thead>\n",
       "    <tr style=\"text-align: right;\">\n",
       "      <th></th>\n",
       "      <th>id</th>\n",
       "      <th>age</th>\n",
       "      <th>gender</th>\n",
       "      <th>height</th>\n",
       "      <th>weight</th>\n",
       "      <th>ap_hi</th>\n",
       "      <th>ap_lo</th>\n",
       "      <th>cholesterol</th>\n",
       "      <th>gluc</th>\n",
       "      <th>smoke</th>\n",
       "      <th>alco</th>\n",
       "      <th>active</th>\n",
       "      <th>cardio</th>\n",
       "    </tr>\n",
       "  </thead>\n",
       "  <tbody>\n",
       "    <tr>\n",
       "      <th>0</th>\n",
       "      <td>0</td>\n",
       "      <td>18393</td>\n",
       "      <td>2</td>\n",
       "      <td>168</td>\n",
       "      <td>62.0</td>\n",
       "      <td>110</td>\n",
       "      <td>80</td>\n",
       "      <td>1</td>\n",
       "      <td>1</td>\n",
       "      <td>0</td>\n",
       "      <td>0</td>\n",
       "      <td>1</td>\n",
       "      <td>0</td>\n",
       "    </tr>\n",
       "    <tr>\n",
       "      <th>1</th>\n",
       "      <td>1</td>\n",
       "      <td>20228</td>\n",
       "      <td>1</td>\n",
       "      <td>156</td>\n",
       "      <td>85.0</td>\n",
       "      <td>140</td>\n",
       "      <td>90</td>\n",
       "      <td>3</td>\n",
       "      <td>1</td>\n",
       "      <td>0</td>\n",
       "      <td>0</td>\n",
       "      <td>1</td>\n",
       "      <td>1</td>\n",
       "    </tr>\n",
       "    <tr>\n",
       "      <th>2</th>\n",
       "      <td>2</td>\n",
       "      <td>18857</td>\n",
       "      <td>1</td>\n",
       "      <td>165</td>\n",
       "      <td>64.0</td>\n",
       "      <td>130</td>\n",
       "      <td>70</td>\n",
       "      <td>3</td>\n",
       "      <td>1</td>\n",
       "      <td>0</td>\n",
       "      <td>0</td>\n",
       "      <td>0</td>\n",
       "      <td>1</td>\n",
       "    </tr>\n",
       "    <tr>\n",
       "      <th>3</th>\n",
       "      <td>3</td>\n",
       "      <td>17623</td>\n",
       "      <td>2</td>\n",
       "      <td>169</td>\n",
       "      <td>82.0</td>\n",
       "      <td>150</td>\n",
       "      <td>100</td>\n",
       "      <td>1</td>\n",
       "      <td>1</td>\n",
       "      <td>0</td>\n",
       "      <td>0</td>\n",
       "      <td>1</td>\n",
       "      <td>1</td>\n",
       "    </tr>\n",
       "    <tr>\n",
       "      <th>4</th>\n",
       "      <td>4</td>\n",
       "      <td>17474</td>\n",
       "      <td>1</td>\n",
       "      <td>156</td>\n",
       "      <td>56.0</td>\n",
       "      <td>100</td>\n",
       "      <td>60</td>\n",
       "      <td>1</td>\n",
       "      <td>1</td>\n",
       "      <td>0</td>\n",
       "      <td>0</td>\n",
       "      <td>0</td>\n",
       "      <td>0</td>\n",
       "    </tr>\n",
       "  </tbody>\n",
       "</table>\n",
       "</div>"
      ],
      "text/plain": [
       "   id    age  gender  height  weight  ap_hi  ap_lo  cholesterol  gluc  smoke  \\\n",
       "0   0  18393       2     168    62.0    110     80            1     1      0   \n",
       "1   1  20228       1     156    85.0    140     90            3     1      0   \n",
       "2   2  18857       1     165    64.0    130     70            3     1      0   \n",
       "3   3  17623       2     169    82.0    150    100            1     1      0   \n",
       "4   4  17474       1     156    56.0    100     60            1     1      0   \n",
       "\n",
       "   alco  active  cardio  \n",
       "0     0       1       0  \n",
       "1     0       1       1  \n",
       "2     0       0       1  \n",
       "3     0       1       1  \n",
       "4     0       0       0  "
      ]
     },
     "execution_count": 4,
     "metadata": {},
     "output_type": "execute_result"
    }
   ],
   "source": [
    "org.head()"
   ]
  },
  {
   "cell_type": "code",
   "execution_count": 5,
   "metadata": {},
   "outputs": [
    {
     "name": "stdout",
     "output_type": "stream",
     "text": [
      "<class 'pandas.core.frame.DataFrame'>\n",
      "RangeIndex: 70000 entries, 0 to 69999\n",
      "Data columns (total 13 columns):\n",
      " #   Column       Non-Null Count  Dtype  \n",
      "---  ------       --------------  -----  \n",
      " 0   id           70000 non-null  int64  \n",
      " 1   age          70000 non-null  int64  \n",
      " 2   gender       70000 non-null  int64  \n",
      " 3   height       70000 non-null  int64  \n",
      " 4   weight       70000 non-null  float64\n",
      " 5   ap_hi        70000 non-null  int64  \n",
      " 6   ap_lo        70000 non-null  int64  \n",
      " 7   cholesterol  70000 non-null  int64  \n",
      " 8   gluc         70000 non-null  int64  \n",
      " 9   smoke        70000 non-null  int64  \n",
      " 10  alco         70000 non-null  int64  \n",
      " 11  active       70000 non-null  int64  \n",
      " 12  cardio       70000 non-null  int64  \n",
      "dtypes: float64(1), int64(12)\n",
      "memory usage: 6.9 MB\n"
     ]
    }
   ],
   "source": [
    "org.info()"
   ]
  },
  {
   "cell_type": "code",
   "execution_count": 6,
   "metadata": {},
   "outputs": [
    {
     "data": {
      "text/plain": [
       "0"
      ]
     },
     "execution_count": 6,
     "metadata": {},
     "output_type": "execute_result"
    }
   ],
   "source": [
    "org.duplicated().sum()"
   ]
  },
  {
   "cell_type": "code",
   "execution_count": 7,
   "metadata": {},
   "outputs": [
    {
     "data": {
      "text/plain": [
       "id             0\n",
       "age            0\n",
       "gender         0\n",
       "height         0\n",
       "weight         0\n",
       "ap_hi          0\n",
       "ap_lo          0\n",
       "cholesterol    0\n",
       "gluc           0\n",
       "smoke          0\n",
       "alco           0\n",
       "active         0\n",
       "cardio         0\n",
       "dtype: int64"
      ]
     },
     "execution_count": 7,
     "metadata": {},
     "output_type": "execute_result"
    }
   ],
   "source": [
    "org.isna().sum()"
   ]
  },
  {
   "cell_type": "code",
   "execution_count": 8,
   "metadata": {},
   "outputs": [
    {
     "data": {
      "text/html": [
       "<div>\n",
       "<style scoped>\n",
       "    .dataframe tbody tr th:only-of-type {\n",
       "        vertical-align: middle;\n",
       "    }\n",
       "\n",
       "    .dataframe tbody tr th {\n",
       "        vertical-align: top;\n",
       "    }\n",
       "\n",
       "    .dataframe thead th {\n",
       "        text-align: right;\n",
       "    }\n",
       "</style>\n",
       "<table border=\"1\" class=\"dataframe\">\n",
       "  <thead>\n",
       "    <tr style=\"text-align: right;\">\n",
       "      <th></th>\n",
       "      <th>id</th>\n",
       "      <th>age</th>\n",
       "      <th>gender</th>\n",
       "      <th>height</th>\n",
       "      <th>weight</th>\n",
       "      <th>ap_hi</th>\n",
       "      <th>ap_lo</th>\n",
       "      <th>cholesterol</th>\n",
       "      <th>gluc</th>\n",
       "      <th>smoke</th>\n",
       "      <th>alco</th>\n",
       "      <th>active</th>\n",
       "      <th>cardio</th>\n",
       "    </tr>\n",
       "  </thead>\n",
       "  <tbody>\n",
       "    <tr>\n",
       "      <th>count</th>\n",
       "      <td>70000.000000</td>\n",
       "      <td>70000.000000</td>\n",
       "      <td>70000.000000</td>\n",
       "      <td>70000.000000</td>\n",
       "      <td>70000.000000</td>\n",
       "      <td>70000.000000</td>\n",
       "      <td>70000.000000</td>\n",
       "      <td>70000.000000</td>\n",
       "      <td>70000.000000</td>\n",
       "      <td>70000.000000</td>\n",
       "      <td>70000.000000</td>\n",
       "      <td>70000.000000</td>\n",
       "      <td>70000.000000</td>\n",
       "    </tr>\n",
       "    <tr>\n",
       "      <th>mean</th>\n",
       "      <td>49972.419900</td>\n",
       "      <td>19468.865814</td>\n",
       "      <td>1.349571</td>\n",
       "      <td>164.359229</td>\n",
       "      <td>74.205690</td>\n",
       "      <td>128.817286</td>\n",
       "      <td>96.630414</td>\n",
       "      <td>1.366871</td>\n",
       "      <td>1.226457</td>\n",
       "      <td>0.088129</td>\n",
       "      <td>0.053771</td>\n",
       "      <td>0.803729</td>\n",
       "      <td>0.499700</td>\n",
       "    </tr>\n",
       "    <tr>\n",
       "      <th>std</th>\n",
       "      <td>28851.302323</td>\n",
       "      <td>2467.251667</td>\n",
       "      <td>0.476838</td>\n",
       "      <td>8.210126</td>\n",
       "      <td>14.395757</td>\n",
       "      <td>154.011419</td>\n",
       "      <td>188.472530</td>\n",
       "      <td>0.680250</td>\n",
       "      <td>0.572270</td>\n",
       "      <td>0.283484</td>\n",
       "      <td>0.225568</td>\n",
       "      <td>0.397179</td>\n",
       "      <td>0.500003</td>\n",
       "    </tr>\n",
       "    <tr>\n",
       "      <th>min</th>\n",
       "      <td>0.000000</td>\n",
       "      <td>10798.000000</td>\n",
       "      <td>1.000000</td>\n",
       "      <td>55.000000</td>\n",
       "      <td>10.000000</td>\n",
       "      <td>-150.000000</td>\n",
       "      <td>-70.000000</td>\n",
       "      <td>1.000000</td>\n",
       "      <td>1.000000</td>\n",
       "      <td>0.000000</td>\n",
       "      <td>0.000000</td>\n",
       "      <td>0.000000</td>\n",
       "      <td>0.000000</td>\n",
       "    </tr>\n",
       "    <tr>\n",
       "      <th>25%</th>\n",
       "      <td>25006.750000</td>\n",
       "      <td>17664.000000</td>\n",
       "      <td>1.000000</td>\n",
       "      <td>159.000000</td>\n",
       "      <td>65.000000</td>\n",
       "      <td>120.000000</td>\n",
       "      <td>80.000000</td>\n",
       "      <td>1.000000</td>\n",
       "      <td>1.000000</td>\n",
       "      <td>0.000000</td>\n",
       "      <td>0.000000</td>\n",
       "      <td>1.000000</td>\n",
       "      <td>0.000000</td>\n",
       "    </tr>\n",
       "    <tr>\n",
       "      <th>50%</th>\n",
       "      <td>50001.500000</td>\n",
       "      <td>19703.000000</td>\n",
       "      <td>1.000000</td>\n",
       "      <td>165.000000</td>\n",
       "      <td>72.000000</td>\n",
       "      <td>120.000000</td>\n",
       "      <td>80.000000</td>\n",
       "      <td>1.000000</td>\n",
       "      <td>1.000000</td>\n",
       "      <td>0.000000</td>\n",
       "      <td>0.000000</td>\n",
       "      <td>1.000000</td>\n",
       "      <td>0.000000</td>\n",
       "    </tr>\n",
       "    <tr>\n",
       "      <th>75%</th>\n",
       "      <td>74889.250000</td>\n",
       "      <td>21327.000000</td>\n",
       "      <td>2.000000</td>\n",
       "      <td>170.000000</td>\n",
       "      <td>82.000000</td>\n",
       "      <td>140.000000</td>\n",
       "      <td>90.000000</td>\n",
       "      <td>2.000000</td>\n",
       "      <td>1.000000</td>\n",
       "      <td>0.000000</td>\n",
       "      <td>0.000000</td>\n",
       "      <td>1.000000</td>\n",
       "      <td>1.000000</td>\n",
       "    </tr>\n",
       "    <tr>\n",
       "      <th>max</th>\n",
       "      <td>99999.000000</td>\n",
       "      <td>23713.000000</td>\n",
       "      <td>2.000000</td>\n",
       "      <td>250.000000</td>\n",
       "      <td>200.000000</td>\n",
       "      <td>16020.000000</td>\n",
       "      <td>11000.000000</td>\n",
       "      <td>3.000000</td>\n",
       "      <td>3.000000</td>\n",
       "      <td>1.000000</td>\n",
       "      <td>1.000000</td>\n",
       "      <td>1.000000</td>\n",
       "      <td>1.000000</td>\n",
       "    </tr>\n",
       "  </tbody>\n",
       "</table>\n",
       "</div>"
      ],
      "text/plain": [
       "                 id           age        gender        height        weight  \\\n",
       "count  70000.000000  70000.000000  70000.000000  70000.000000  70000.000000   \n",
       "mean   49972.419900  19468.865814      1.349571    164.359229     74.205690   \n",
       "std    28851.302323   2467.251667      0.476838      8.210126     14.395757   \n",
       "min        0.000000  10798.000000      1.000000     55.000000     10.000000   \n",
       "25%    25006.750000  17664.000000      1.000000    159.000000     65.000000   \n",
       "50%    50001.500000  19703.000000      1.000000    165.000000     72.000000   \n",
       "75%    74889.250000  21327.000000      2.000000    170.000000     82.000000   \n",
       "max    99999.000000  23713.000000      2.000000    250.000000    200.000000   \n",
       "\n",
       "              ap_hi         ap_lo   cholesterol          gluc         smoke  \\\n",
       "count  70000.000000  70000.000000  70000.000000  70000.000000  70000.000000   \n",
       "mean     128.817286     96.630414      1.366871      1.226457      0.088129   \n",
       "std      154.011419    188.472530      0.680250      0.572270      0.283484   \n",
       "min     -150.000000    -70.000000      1.000000      1.000000      0.000000   \n",
       "25%      120.000000     80.000000      1.000000      1.000000      0.000000   \n",
       "50%      120.000000     80.000000      1.000000      1.000000      0.000000   \n",
       "75%      140.000000     90.000000      2.000000      1.000000      0.000000   \n",
       "max    16020.000000  11000.000000      3.000000      3.000000      1.000000   \n",
       "\n",
       "               alco        active        cardio  \n",
       "count  70000.000000  70000.000000  70000.000000  \n",
       "mean       0.053771      0.803729      0.499700  \n",
       "std        0.225568      0.397179      0.500003  \n",
       "min        0.000000      0.000000      0.000000  \n",
       "25%        0.000000      1.000000      0.000000  \n",
       "50%        0.000000      1.000000      0.000000  \n",
       "75%        0.000000      1.000000      1.000000  \n",
       "max        1.000000      1.000000      1.000000  "
      ]
     },
     "execution_count": 8,
     "metadata": {},
     "output_type": "execute_result"
    }
   ],
   "source": [
    "org.describe()"
   ]
  },
  {
   "cell_type": "code",
   "execution_count": 9,
   "metadata": {},
   "outputs": [
    {
     "data": {
      "text/html": [
       "<div>\n",
       "<style scoped>\n",
       "    .dataframe tbody tr th:only-of-type {\n",
       "        vertical-align: middle;\n",
       "    }\n",
       "\n",
       "    .dataframe tbody tr th {\n",
       "        vertical-align: top;\n",
       "    }\n",
       "\n",
       "    .dataframe thead th {\n",
       "        text-align: right;\n",
       "    }\n",
       "</style>\n",
       "<table border=\"1\" class=\"dataframe\">\n",
       "  <thead>\n",
       "    <tr style=\"text-align: right;\">\n",
       "      <th></th>\n",
       "      <th>id</th>\n",
       "      <th>age</th>\n",
       "      <th>gender</th>\n",
       "      <th>height</th>\n",
       "      <th>weight</th>\n",
       "      <th>ap_hi</th>\n",
       "      <th>ap_lo</th>\n",
       "      <th>cholesterol</th>\n",
       "      <th>gluc</th>\n",
       "      <th>smoke</th>\n",
       "      <th>alco</th>\n",
       "      <th>active</th>\n",
       "      <th>cardio</th>\n",
       "    </tr>\n",
       "  </thead>\n",
       "  <tbody>\n",
       "    <tr>\n",
       "      <th>id</th>\n",
       "      <td>1.000000</td>\n",
       "      <td>0.003457</td>\n",
       "      <td>0.003502</td>\n",
       "      <td>-0.003038</td>\n",
       "      <td>-0.001830</td>\n",
       "      <td>0.003356</td>\n",
       "      <td>-0.002529</td>\n",
       "      <td>0.006106</td>\n",
       "      <td>0.002467</td>\n",
       "      <td>-0.003699</td>\n",
       "      <td>0.001210</td>\n",
       "      <td>0.003755</td>\n",
       "      <td>0.003799</td>\n",
       "    </tr>\n",
       "    <tr>\n",
       "      <th>age</th>\n",
       "      <td>0.003457</td>\n",
       "      <td>1.000000</td>\n",
       "      <td>-0.022811</td>\n",
       "      <td>-0.081515</td>\n",
       "      <td>0.053684</td>\n",
       "      <td>0.020764</td>\n",
       "      <td>0.017647</td>\n",
       "      <td>0.154424</td>\n",
       "      <td>0.098703</td>\n",
       "      <td>-0.047633</td>\n",
       "      <td>-0.029723</td>\n",
       "      <td>-0.009927</td>\n",
       "      <td>0.238159</td>\n",
       "    </tr>\n",
       "    <tr>\n",
       "      <th>gender</th>\n",
       "      <td>0.003502</td>\n",
       "      <td>-0.022811</td>\n",
       "      <td>1.000000</td>\n",
       "      <td>0.499033</td>\n",
       "      <td>0.155406</td>\n",
       "      <td>0.006005</td>\n",
       "      <td>0.015254</td>\n",
       "      <td>-0.035821</td>\n",
       "      <td>-0.020491</td>\n",
       "      <td>0.338135</td>\n",
       "      <td>0.170966</td>\n",
       "      <td>0.005866</td>\n",
       "      <td>0.008109</td>\n",
       "    </tr>\n",
       "    <tr>\n",
       "      <th>height</th>\n",
       "      <td>-0.003038</td>\n",
       "      <td>-0.081515</td>\n",
       "      <td>0.499033</td>\n",
       "      <td>1.000000</td>\n",
       "      <td>0.290968</td>\n",
       "      <td>0.005488</td>\n",
       "      <td>0.006150</td>\n",
       "      <td>-0.050226</td>\n",
       "      <td>-0.018595</td>\n",
       "      <td>0.187989</td>\n",
       "      <td>0.094419</td>\n",
       "      <td>-0.006570</td>\n",
       "      <td>-0.010821</td>\n",
       "    </tr>\n",
       "    <tr>\n",
       "      <th>weight</th>\n",
       "      <td>-0.001830</td>\n",
       "      <td>0.053684</td>\n",
       "      <td>0.155406</td>\n",
       "      <td>0.290968</td>\n",
       "      <td>1.000000</td>\n",
       "      <td>0.030702</td>\n",
       "      <td>0.043710</td>\n",
       "      <td>0.141768</td>\n",
       "      <td>0.106857</td>\n",
       "      <td>0.067780</td>\n",
       "      <td>0.067113</td>\n",
       "      <td>-0.016867</td>\n",
       "      <td>0.181660</td>\n",
       "    </tr>\n",
       "    <tr>\n",
       "      <th>ap_hi</th>\n",
       "      <td>0.003356</td>\n",
       "      <td>0.020764</td>\n",
       "      <td>0.006005</td>\n",
       "      <td>0.005488</td>\n",
       "      <td>0.030702</td>\n",
       "      <td>1.000000</td>\n",
       "      <td>0.016086</td>\n",
       "      <td>0.023778</td>\n",
       "      <td>0.011841</td>\n",
       "      <td>-0.000922</td>\n",
       "      <td>0.001408</td>\n",
       "      <td>-0.000033</td>\n",
       "      <td>0.054475</td>\n",
       "    </tr>\n",
       "    <tr>\n",
       "      <th>ap_lo</th>\n",
       "      <td>-0.002529</td>\n",
       "      <td>0.017647</td>\n",
       "      <td>0.015254</td>\n",
       "      <td>0.006150</td>\n",
       "      <td>0.043710</td>\n",
       "      <td>0.016086</td>\n",
       "      <td>1.000000</td>\n",
       "      <td>0.024019</td>\n",
       "      <td>0.010806</td>\n",
       "      <td>0.005186</td>\n",
       "      <td>0.010601</td>\n",
       "      <td>0.004780</td>\n",
       "      <td>0.065719</td>\n",
       "    </tr>\n",
       "    <tr>\n",
       "      <th>cholesterol</th>\n",
       "      <td>0.006106</td>\n",
       "      <td>0.154424</td>\n",
       "      <td>-0.035821</td>\n",
       "      <td>-0.050226</td>\n",
       "      <td>0.141768</td>\n",
       "      <td>0.023778</td>\n",
       "      <td>0.024019</td>\n",
       "      <td>1.000000</td>\n",
       "      <td>0.451578</td>\n",
       "      <td>0.010354</td>\n",
       "      <td>0.035760</td>\n",
       "      <td>0.009911</td>\n",
       "      <td>0.221147</td>\n",
       "    </tr>\n",
       "    <tr>\n",
       "      <th>gluc</th>\n",
       "      <td>0.002467</td>\n",
       "      <td>0.098703</td>\n",
       "      <td>-0.020491</td>\n",
       "      <td>-0.018595</td>\n",
       "      <td>0.106857</td>\n",
       "      <td>0.011841</td>\n",
       "      <td>0.010806</td>\n",
       "      <td>0.451578</td>\n",
       "      <td>1.000000</td>\n",
       "      <td>-0.004756</td>\n",
       "      <td>0.011246</td>\n",
       "      <td>-0.006770</td>\n",
       "      <td>0.089307</td>\n",
       "    </tr>\n",
       "    <tr>\n",
       "      <th>smoke</th>\n",
       "      <td>-0.003699</td>\n",
       "      <td>-0.047633</td>\n",
       "      <td>0.338135</td>\n",
       "      <td>0.187989</td>\n",
       "      <td>0.067780</td>\n",
       "      <td>-0.000922</td>\n",
       "      <td>0.005186</td>\n",
       "      <td>0.010354</td>\n",
       "      <td>-0.004756</td>\n",
       "      <td>1.000000</td>\n",
       "      <td>0.340094</td>\n",
       "      <td>0.025858</td>\n",
       "      <td>-0.015486</td>\n",
       "    </tr>\n",
       "    <tr>\n",
       "      <th>alco</th>\n",
       "      <td>0.001210</td>\n",
       "      <td>-0.029723</td>\n",
       "      <td>0.170966</td>\n",
       "      <td>0.094419</td>\n",
       "      <td>0.067113</td>\n",
       "      <td>0.001408</td>\n",
       "      <td>0.010601</td>\n",
       "      <td>0.035760</td>\n",
       "      <td>0.011246</td>\n",
       "      <td>0.340094</td>\n",
       "      <td>1.000000</td>\n",
       "      <td>0.025476</td>\n",
       "      <td>-0.007330</td>\n",
       "    </tr>\n",
       "    <tr>\n",
       "      <th>active</th>\n",
       "      <td>0.003755</td>\n",
       "      <td>-0.009927</td>\n",
       "      <td>0.005866</td>\n",
       "      <td>-0.006570</td>\n",
       "      <td>-0.016867</td>\n",
       "      <td>-0.000033</td>\n",
       "      <td>0.004780</td>\n",
       "      <td>0.009911</td>\n",
       "      <td>-0.006770</td>\n",
       "      <td>0.025858</td>\n",
       "      <td>0.025476</td>\n",
       "      <td>1.000000</td>\n",
       "      <td>-0.035653</td>\n",
       "    </tr>\n",
       "    <tr>\n",
       "      <th>cardio</th>\n",
       "      <td>0.003799</td>\n",
       "      <td>0.238159</td>\n",
       "      <td>0.008109</td>\n",
       "      <td>-0.010821</td>\n",
       "      <td>0.181660</td>\n",
       "      <td>0.054475</td>\n",
       "      <td>0.065719</td>\n",
       "      <td>0.221147</td>\n",
       "      <td>0.089307</td>\n",
       "      <td>-0.015486</td>\n",
       "      <td>-0.007330</td>\n",
       "      <td>-0.035653</td>\n",
       "      <td>1.000000</td>\n",
       "    </tr>\n",
       "  </tbody>\n",
       "</table>\n",
       "</div>"
      ],
      "text/plain": [
       "                   id       age    gender    height    weight     ap_hi  \\\n",
       "id           1.000000  0.003457  0.003502 -0.003038 -0.001830  0.003356   \n",
       "age          0.003457  1.000000 -0.022811 -0.081515  0.053684  0.020764   \n",
       "gender       0.003502 -0.022811  1.000000  0.499033  0.155406  0.006005   \n",
       "height      -0.003038 -0.081515  0.499033  1.000000  0.290968  0.005488   \n",
       "weight      -0.001830  0.053684  0.155406  0.290968  1.000000  0.030702   \n",
       "ap_hi        0.003356  0.020764  0.006005  0.005488  0.030702  1.000000   \n",
       "ap_lo       -0.002529  0.017647  0.015254  0.006150  0.043710  0.016086   \n",
       "cholesterol  0.006106  0.154424 -0.035821 -0.050226  0.141768  0.023778   \n",
       "gluc         0.002467  0.098703 -0.020491 -0.018595  0.106857  0.011841   \n",
       "smoke       -0.003699 -0.047633  0.338135  0.187989  0.067780 -0.000922   \n",
       "alco         0.001210 -0.029723  0.170966  0.094419  0.067113  0.001408   \n",
       "active       0.003755 -0.009927  0.005866 -0.006570 -0.016867 -0.000033   \n",
       "cardio       0.003799  0.238159  0.008109 -0.010821  0.181660  0.054475   \n",
       "\n",
       "                ap_lo  cholesterol      gluc     smoke      alco    active  \\\n",
       "id          -0.002529     0.006106  0.002467 -0.003699  0.001210  0.003755   \n",
       "age          0.017647     0.154424  0.098703 -0.047633 -0.029723 -0.009927   \n",
       "gender       0.015254    -0.035821 -0.020491  0.338135  0.170966  0.005866   \n",
       "height       0.006150    -0.050226 -0.018595  0.187989  0.094419 -0.006570   \n",
       "weight       0.043710     0.141768  0.106857  0.067780  0.067113 -0.016867   \n",
       "ap_hi        0.016086     0.023778  0.011841 -0.000922  0.001408 -0.000033   \n",
       "ap_lo        1.000000     0.024019  0.010806  0.005186  0.010601  0.004780   \n",
       "cholesterol  0.024019     1.000000  0.451578  0.010354  0.035760  0.009911   \n",
       "gluc         0.010806     0.451578  1.000000 -0.004756  0.011246 -0.006770   \n",
       "smoke        0.005186     0.010354 -0.004756  1.000000  0.340094  0.025858   \n",
       "alco         0.010601     0.035760  0.011246  0.340094  1.000000  0.025476   \n",
       "active       0.004780     0.009911 -0.006770  0.025858  0.025476  1.000000   \n",
       "cardio       0.065719     0.221147  0.089307 -0.015486 -0.007330 -0.035653   \n",
       "\n",
       "               cardio  \n",
       "id           0.003799  \n",
       "age          0.238159  \n",
       "gender       0.008109  \n",
       "height      -0.010821  \n",
       "weight       0.181660  \n",
       "ap_hi        0.054475  \n",
       "ap_lo        0.065719  \n",
       "cholesterol  0.221147  \n",
       "gluc         0.089307  \n",
       "smoke       -0.015486  \n",
       "alco        -0.007330  \n",
       "active      -0.035653  \n",
       "cardio       1.000000  "
      ]
     },
     "execution_count": 9,
     "metadata": {},
     "output_type": "execute_result"
    }
   ],
   "source": [
    "hear_corr = org.corr(numeric_only=True)\n",
    "hear_corr"
   ]
  },
  {
   "cell_type": "code",
   "execution_count": 10,
   "metadata": {},
   "outputs": [
    {
     "data": {
      "image/png": "[encoded data removed]",
      "text/plain": [
       "<Figure size 1000x1000 with 2 Axes>"
      ]
     },
     "metadata": {},
     "output_type": "display_data"
    }
   ],
   "source": [
    "plt.figure(figsize=(10, 10))\n",
    "sns.heatmap(hear_corr, annot=True, cmap='Blues')\n",
    "plt.tight_layout()"
   ]
  },
  {
   "cell_type": "code",
   "execution_count": 11,
   "metadata": {},
   "outputs": [
    {
     "data": {
      "text/plain": [
       "0    35021\n",
       "1    34979\n",
       "Name: cardio, dtype: int64"
      ]
     },
     "execution_count": 11,
     "metadata": {},
     "output_type": "execute_result"
    }
   ],
   "source": [
    "org['cardio'].value_counts()"
   ]
  },
  {
   "cell_type": "code",
   "execution_count": 12,
   "metadata": {},
   "outputs": [
    {
     "data": {
      "text/plain": [
       "<AxesSubplot: >"
      ]
     },
     "execution_count": 12,
     "metadata": {},
     "output_type": "execute_result"
    },
    {
     "data": {
      "image/png": "[encoded data removed]",
      "text/plain": [
       "<Figure size 640x480 with 1 Axes>"
      ]
     },
     "metadata": {},
     "output_type": "display_data"
    }
   ],
   "source": [
    "org['cholesterol'].value_counts().plot(kind='bar')"
   ]
  },
  {
   "cell_type": "code",
   "execution_count": 13,
   "metadata": {},
   "outputs": [
    {
     "data": {
      "text/plain": [
       "<AxesSubplot: xlabel='gender', ylabel='count'>"
      ]
     },
     "execution_count": 13,
     "metadata": {},
     "output_type": "execute_result"
    },
    {
     "data": {
      "image/png": "[encoded data removed]",
      "text/plain": [
       "<Figure size 640x480 with 1 Axes>"
      ]
     },
     "metadata": {},
     "output_type": "display_data"
    }
   ],
   "source": [
    "sns.countplot(data=org, x=\"gender\", hue=\"cardio\")"
   ]
  },
  {
   "cell_type": "code",
   "execution_count": 14,
   "metadata": {},
   "outputs": [],
   "source": [
    "#Converting the age into round figure\n",
    "org['new_age'] = (org['age']/365).round(0)"
   ]
  },
  {
   "cell_type": "code",
   "execution_count": 15,
   "metadata": {},
   "outputs": [
    {
     "data": {
      "text/plain": [
       "0        50.0\n",
       "1        55.0\n",
       "2        52.0\n",
       "3        48.0\n",
       "4        48.0\n",
       "         ... \n",
       "69995    53.0\n",
       "69996    62.0\n",
       "69997    52.0\n",
       "69998    61.0\n",
       "69999    56.0\n",
       "Name: new_age, Length: 70000, dtype: float64"
      ]
     },
     "execution_count": 15,
     "metadata": {},
     "output_type": "execute_result"
    }
   ],
   "source": [
    "org['new_age']"
   ]
  },
  {
   "cell_type": "code",
   "execution_count": 16,
   "metadata": {},
   "outputs": [
    {
     "data": {
      "text/plain": [
       "<AxesSubplot: xlabel='new_age', ylabel='count'>"
      ]
     },
     "execution_count": 16,
     "metadata": {},
     "output_type": "execute_result"
    },
    {
     "data": {
      "image/png": "[encoded data removed]",
      "text/plain": [
       "<Figure size 640x480 with 1 Axes>"
      ]
     },
     "metadata": {},
     "output_type": "display_data"
    }
   ],
   "source": [
    "sns.countplot(data = org, x = org['new_age'], hue = 'cardio')"
   ]
  },
  {
   "cell_type": "code",
   "execution_count": 17,
   "metadata": {},
   "outputs": [
    {
     "data": {
      "text/html": [
       "<div>\n",
       "<style scoped>\n",
       "    .dataframe tbody tr th:only-of-type {\n",
       "        vertical-align: middle;\n",
       "    }\n",
       "\n",
       "    .dataframe tbody tr th {\n",
       "        vertical-align: top;\n",
       "    }\n",
       "\n",
       "    .dataframe thead th {\n",
       "        text-align: right;\n",
       "    }\n",
       "</style>\n",
       "<table border=\"1\" class=\"dataframe\">\n",
       "  <thead>\n",
       "    <tr style=\"text-align: right;\">\n",
       "      <th></th>\n",
       "      <th>id</th>\n",
       "      <th>age</th>\n",
       "      <th>gender</th>\n",
       "      <th>height</th>\n",
       "      <th>weight</th>\n",
       "      <th>ap_hi</th>\n",
       "      <th>ap_lo</th>\n",
       "      <th>cholesterol</th>\n",
       "      <th>gluc</th>\n",
       "      <th>smoke</th>\n",
       "      <th>alco</th>\n",
       "      <th>active</th>\n",
       "      <th>cardio</th>\n",
       "    </tr>\n",
       "  </thead>\n",
       "  <tbody>\n",
       "    <tr>\n",
       "      <th>0</th>\n",
       "      <td>0</td>\n",
       "      <td>18393</td>\n",
       "      <td>2</td>\n",
       "      <td>168</td>\n",
       "      <td>62.0</td>\n",
       "      <td>110</td>\n",
       "      <td>80</td>\n",
       "      <td>1</td>\n",
       "      <td>1</td>\n",
       "      <td>0</td>\n",
       "      <td>0</td>\n",
       "      <td>1</td>\n",
       "      <td>0</td>\n",
       "    </tr>\n",
       "    <tr>\n",
       "      <th>1</th>\n",
       "      <td>1</td>\n",
       "      <td>20228</td>\n",
       "      <td>1</td>\n",
       "      <td>156</td>\n",
       "      <td>85.0</td>\n",
       "      <td>140</td>\n",
       "      <td>90</td>\n",
       "      <td>3</td>\n",
       "      <td>1</td>\n",
       "      <td>0</td>\n",
       "      <td>0</td>\n",
       "      <td>1</td>\n",
       "      <td>1</td>\n",
       "    </tr>\n",
       "    <tr>\n",
       "      <th>2</th>\n",
       "      <td>2</td>\n",
       "      <td>18857</td>\n",
       "      <td>1</td>\n",
       "      <td>165</td>\n",
       "      <td>64.0</td>\n",
       "      <td>130</td>\n",
       "      <td>70</td>\n",
       "      <td>3</td>\n",
       "      <td>1</td>\n",
       "      <td>0</td>\n",
       "      <td>0</td>\n",
       "      <td>0</td>\n",
       "      <td>1</td>\n",
       "    </tr>\n",
       "    <tr>\n",
       "      <th>3</th>\n",
       "      <td>3</td>\n",
       "      <td>17623</td>\n",
       "      <td>2</td>\n",
       "      <td>169</td>\n",
       "      <td>82.0</td>\n",
       "      <td>150</td>\n",
       "      <td>100</td>\n",
       "      <td>1</td>\n",
       "      <td>1</td>\n",
       "      <td>0</td>\n",
       "      <td>0</td>\n",
       "      <td>1</td>\n",
       "      <td>1</td>\n",
       "    </tr>\n",
       "    <tr>\n",
       "      <th>4</th>\n",
       "      <td>4</td>\n",
       "      <td>17474</td>\n",
       "      <td>1</td>\n",
       "      <td>156</td>\n",
       "      <td>56.0</td>\n",
       "      <td>100</td>\n",
       "      <td>60</td>\n",
       "      <td>1</td>\n",
       "      <td>1</td>\n",
       "      <td>0</td>\n",
       "      <td>0</td>\n",
       "      <td>0</td>\n",
       "      <td>0</td>\n",
       "    </tr>\n",
       "    <tr>\n",
       "      <th>...</th>\n",
       "      <td>...</td>\n",
       "      <td>...</td>\n",
       "      <td>...</td>\n",
       "      <td>...</td>\n",
       "      <td>...</td>\n",
       "      <td>...</td>\n",
       "      <td>...</td>\n",
       "      <td>...</td>\n",
       "      <td>...</td>\n",
       "      <td>...</td>\n",
       "      <td>...</td>\n",
       "      <td>...</td>\n",
       "      <td>...</td>\n",
       "    </tr>\n",
       "    <tr>\n",
       "      <th>69995</th>\n",
       "      <td>99993</td>\n",
       "      <td>19240</td>\n",
       "      <td>2</td>\n",
       "      <td>168</td>\n",
       "      <td>76.0</td>\n",
       "      <td>120</td>\n",
       "      <td>80</td>\n",
       "      <td>1</td>\n",
       "      <td>1</td>\n",
       "      <td>1</td>\n",
       "      <td>0</td>\n",
       "      <td>1</td>\n",
       "      <td>0</td>\n",
       "    </tr>\n",
       "    <tr>\n",
       "      <th>69996</th>\n",
       "      <td>99995</td>\n",
       "      <td>22601</td>\n",
       "      <td>1</td>\n",
       "      <td>158</td>\n",
       "      <td>126.0</td>\n",
       "      <td>140</td>\n",
       "      <td>90</td>\n",
       "      <td>2</td>\n",
       "      <td>2</td>\n",
       "      <td>0</td>\n",
       "      <td>0</td>\n",
       "      <td>1</td>\n",
       "      <td>1</td>\n",
       "    </tr>\n",
       "    <tr>\n",
       "      <th>69997</th>\n",
       "      <td>99996</td>\n",
       "      <td>19066</td>\n",
       "      <td>2</td>\n",
       "      <td>183</td>\n",
       "      <td>105.0</td>\n",
       "      <td>180</td>\n",
       "      <td>90</td>\n",
       "      <td>3</td>\n",
       "      <td>1</td>\n",
       "      <td>0</td>\n",
       "      <td>1</td>\n",
       "      <td>0</td>\n",
       "      <td>1</td>\n",
       "    </tr>\n",
       "    <tr>\n",
       "      <th>69998</th>\n",
       "      <td>99998</td>\n",
       "      <td>22431</td>\n",
       "      <td>1</td>\n",
       "      <td>163</td>\n",
       "      <td>72.0</td>\n",
       "      <td>135</td>\n",
       "      <td>80</td>\n",
       "      <td>1</td>\n",
       "      <td>2</td>\n",
       "      <td>0</td>\n",
       "      <td>0</td>\n",
       "      <td>0</td>\n",
       "      <td>1</td>\n",
       "    </tr>\n",
       "    <tr>\n",
       "      <th>69999</th>\n",
       "      <td>99999</td>\n",
       "      <td>20540</td>\n",
       "      <td>1</td>\n",
       "      <td>170</td>\n",
       "      <td>72.0</td>\n",
       "      <td>120</td>\n",
       "      <td>80</td>\n",
       "      <td>2</td>\n",
       "      <td>1</td>\n",
       "      <td>0</td>\n",
       "      <td>0</td>\n",
       "      <td>1</td>\n",
       "      <td>0</td>\n",
       "    </tr>\n",
       "  </tbody>\n",
       "</table>\n",
       "<p>70000 rows × 13 columns</p>\n",
       "</div>"
      ],
      "text/plain": [
       "          id    age  gender  height  weight  ap_hi  ap_lo  cholesterol  gluc  \\\n",
       "0          0  18393       2     168    62.0    110     80            1     1   \n",
       "1          1  20228       1     156    85.0    140     90            3     1   \n",
       "2          2  18857       1     165    64.0    130     70            3     1   \n",
       "3          3  17623       2     169    82.0    150    100            1     1   \n",
       "4          4  17474       1     156    56.0    100     60            1     1   \n",
       "...      ...    ...     ...     ...     ...    ...    ...          ...   ...   \n",
       "69995  99993  19240       2     168    76.0    120     80            1     1   \n",
       "69996  99995  22601       1     158   126.0    140     90            2     2   \n",
       "69997  99996  19066       2     183   105.0    180     90            3     1   \n",
       "69998  99998  22431       1     163    72.0    135     80            1     2   \n",
       "69999  99999  20540       1     170    72.0    120     80            2     1   \n",
       "\n",
       "       smoke  alco  active  cardio  \n",
       "0          0     0       1       0  \n",
       "1          0     0       1       1  \n",
       "2          0     0       0       1  \n",
       "3          0     0       1       1  \n",
       "4          0     0       0       0  \n",
       "...      ...   ...     ...     ...  \n",
       "69995      1     0       1       0  \n",
       "69996      0     0       1       1  \n",
       "69997      0     1       0       1  \n",
       "69998      0     0       0       1  \n",
       "69999      0     0       1       0  \n",
       "\n",
       "[70000 rows x 13 columns]"
      ]
     },
     "execution_count": 17,
     "metadata": {},
     "output_type": "execute_result"
    }
   ],
   "source": [
    "org.drop(['new_age'], axis = 'columns')\n"
   ]
  },
  {
   "cell_type": "code",
   "execution_count": 18,
   "metadata": {},
   "outputs": [
    {
     "data": {
      "text/plain": [
       "<AxesSubplot: xlabel='gluc', ylabel='count'>"
      ]
     },
     "execution_count": 18,
     "metadata": {},
     "output_type": "execute_result"
    },
    {
     "data": {
      "image/png": "[encoded data removed]",
      "text/plain": [
       "<Figure size 640x480 with 1 Axes>"
      ]
     },
     "metadata": {},
     "output_type": "display_data"
    }
   ],
   "source": [
    "sns.countplot(x='gluc',hue='cardio',data=org)"
   ]
  },
  {
   "cell_type": "code",
   "execution_count": null,
   "metadata": {},
   "outputs": [],
   "source": []
  },
  {
   "cell_type": "code",
   "execution_count": 19,
   "metadata": {},
   "outputs": [
    {
     "data": {
      "application/vnd.plotly.v1+json": {
       "config": {
        "plotlyServerURL": "https://plot.ly"
       },
       "data": [
        {
         "alignmentgroup": "True",
         "hovertemplate": "The amount of Cholesterol=%{x}<br>The Cardiac disease by average=%{y}<extra></extra>",
         "legendgroup": "Normal",
         "marker": {
          "color": "#636efa",
          "pattern": {
           "shape": ""
          }
         },
         "name": "Normal",
         "offsetgroup": "Normal",
         "orientation": "v",
         "showlegend": true,
         "textposition": "auto",
         "type": "bar",
         "x": [
          "Normal"
         ],
         "xaxis": "x",
         "y": [
          0.4401069008303904
         ],
         "yaxis": "y"
        },
        {
         "alignmentgroup": "True",
         "hovertemplate": "The amount of Cholesterol=%{x}<br>The Cardiac disease by average=%{y}<extra></extra>",
         "legendgroup": "Above Normal",
         "marker": {
          "color": "#EF553B",
          "pattern": {
           "shape": ""
          }
         },
         "name": "Above Normal",
         "offsetgroup": "Above Normal",
         "orientation": "v",
         "showlegend": true,
         "textposition": "auto",
         "type": "bar",
         "x": [
          "Above Normal"
         ],
         "xaxis": "x",
         "y": [
          0.6021572939574824
         ],
         "yaxis": "y"
        },
        {
         "alignmentgroup": "True",
         "hovertemplate": "The amount of Cholesterol=%{x}<br>The Cardiac disease by average=%{y}<extra></extra>",
         "legendgroup": "Well Above Normal",
         "marker": {
          "color": "#00cc96",
          "pattern": {
           "shape": ""
          }
         },
         "name": "Well Above Normal",
         "offsetgroup": "Well Above Normal",
         "orientation": "v",
         "showlegend": true,
         "textposition": "auto",
         "type": "bar",
         "x": [
          "Well Above Normal"
         ],
         "xaxis": "x",
         "y": [
          0.7654351599305728
         ],
         "yaxis": "y"
        }
       ],
       "layout": {
        "barmode": "relative",
        "legend": {
         "title": {
          "text": "The amount of Cholesterol"
         },
         "tracegroupgap": 0
        },
        "template": {
         "data": {
          "bar": [
           {
            "error_x": {
             "color": "#2a3f5f"
            },
            "error_y": {
             "color": "#2a3f5f"
            },
            "marker": {
             "line": {
              "color": "#E5ECF6",
              "width": 0.5
             },
             "pattern": {
              "fillmode": "overlay",
              "size": 10,
              "solidity": 0.2
             }
            },
            "type": "bar"
           }
          ],
          "barpolar": [
           {
            "marker": {
             "line": {
              "color": "#E5ECF6",
              "width": 0.5
             },
             "pattern": {
              "fillmode": "overlay",
              "size": 10,
              "solidity": 0.2
             }
            },
            "type": "barpolar"
           }
          ],
          "carpet": [
           {
            "aaxis": {
             "endlinecolor": "#2a3f5f",
             "gridcolor": "white",
             "linecolor": "white",
             "minorgridcolor": "white",
             "startlinecolor": "#2a3f5f"
            },
            "baxis": {
             "endlinecolor": "#2a3f5f",
             "gridcolor": "white",
             "linecolor": "white",
             "minorgridcolor": "white",
             "startlinecolor": "#2a3f5f"
            },
            "type": "carpet"
           }
          ],
          "choropleth": [
           {
            "colorbar": {
             "outlinewidth": 0,
             "ticks": ""
            },
            "type": "choropleth"
           }
          ],
          "contour": [
           {
            "colorbar": {
             "outlinewidth": 0,
             "ticks": ""
            },
            "colorscale": [
             [
              0,
              "#0d0887"
             ],
             [
              0.1111111111111111,
              "#46039f"
             ],
             [
              0.2222222222222222,
              "#7201a8"
             ],
             [
              0.3333333333333333,
              "#9c179e"
             ],
             [
              0.4444444444444444,
              "#bd3786"
             ],
             [
              0.5555555555555556,
              "#d8576b"
             ],
             [
              0.6666666666666666,
              "#ed7953"
             ],
             [
              0.7777777777777778,
              "#fb9f3a"
             ],
             [
              0.8888888888888888,
              "#fdca26"
             ],
             [
              1,
              "#f0f921"
             ]
            ],
            "type": "contour"
           }
          ],
          "contourcarpet": [
           {
            "colorbar": {
             "outlinewidth": 0,
             "ticks": ""
            },
            "type": "contourcarpet"
           }
          ],
          "heatmap": [
           {
            "colorbar": {
             "outlinewidth": 0,
             "ticks": ""
            },
            "colorscale": [
             [
              0,
              "#0d0887"
             ],
             [
              0.1111111111111111,
              "#46039f"
             ],
             [
              0.2222222222222222,
              "#7201a8"
             ],
             [
              0.3333333333333333,
              "#9c179e"
             ],
             [
              0.4444444444444444,
              "#bd3786"
             ],
             [
              0.5555555555555556,
              "#d8576b"
             ],
             [
              0.6666666666666666,
              "#ed7953"
             ],
             [
              0.7777777777777778,
              "#fb9f3a"
             ],
             [
              0.8888888888888888,
              "#fdca26"
             ],
             [
              1,
              "#f0f921"
             ]
            ],
            "type": "heatmap"
           }
          ],
          "heatmapgl": [
           {
            "colorbar": {
             "outlinewidth": 0,
             "ticks": ""
            },
            "colorscale": [
             [
              0,
              "#0d0887"
             ],
             [
              0.1111111111111111,
              "#46039f"
             ],
             [
              0.2222222222222222,
              "#7201a8"
             ],
             [
              0.3333333333333333,
              "#9c179e"
             ],
             [
              0.4444444444444444,
              "#bd3786"
             ],
             [
              0.5555555555555556,
              "#d8576b"
             ],
             [
              0.6666666666666666,
              "#ed7953"
             ],
             [
              0.7777777777777778,
              "#fb9f3a"
             ],
             [
              0.8888888888888888,
              "#fdca26"
             ],
             [
              1,
              "#f0f921"
             ]
            ],
            "type": "heatmapgl"
           }
          ],
          "histogram": [
           {
            "marker": {
             "pattern": {
              "fillmode": "overlay",
              "size": 10,
              "solidity": 0.2
             }
            },
            "type": "histogram"
           }
          ],
          "histogram2d": [
           {
            "colorbar": {
             "outlinewidth": 0,
             "ticks": ""
            },
            "colorscale": [
             [
              0,
              "#0d0887"
             ],
             [
              0.1111111111111111,
              "#46039f"
             ],
             [
              0.2222222222222222,
              "#7201a8"
             ],
             [
              0.3333333333333333,
              "#9c179e"
             ],
             [
              0.4444444444444444,
              "#bd3786"
             ],
             [
              0.5555555555555556,
              "#d8576b"
             ],
             [
              0.6666666666666666,
              "#ed7953"
             ],
             [
              0.7777777777777778,
              "#fb9f3a"
             ],
             [
              0.8888888888888888,
              "#fdca26"
             ],
             [
              1,
              "#f0f921"
             ]
            ],
            "type": "histogram2d"
           }
          ],
          "histogram2dcontour": [
           {
            "colorbar": {
             "outlinewidth": 0,
             "ticks": ""
            },
            "colorscale": [
             [
              0,
              "#0d0887"
             ],
             [
              0.1111111111111111,
              "#46039f"
             ],
             [
              0.2222222222222222,
              "#7201a8"
             ],
             [
              0.3333333333333333,
              "#9c179e"
             ],
             [
              0.4444444444444444,
              "#bd3786"
             ],
             [
              0.5555555555555556,
              "#d8576b"
             ],
             [
              0.6666666666666666,
              "#ed7953"
             ],
             [
              0.7777777777777778,
              "#fb9f3a"
             ],
             [
              0.8888888888888888,
              "#fdca26"
             ],
             [
              1,
              "#f0f921"
             ]
            ],
            "type": "histogram2dcontour"
           }
          ],
          "mesh3d": [
           {
            "colorbar": {
             "outlinewidth": 0,
             "ticks": ""
            },
            "type": "mesh3d"
           }
          ],
          "parcoords": [
           {
            "line": {
             "colorbar": {
              "outlinewidth": 0,
              "ticks": ""
             }
            },
            "type": "parcoords"
           }
          ],
          "pie": [
           {
            "automargin": true,
            "type": "pie"
           }
          ],
          "scatter": [
           {
            "fillpattern": {
             "fillmode": "overlay",
             "size": 10,
             "solidity": 0.2
            },
            "type": "scatter"
           }
          ],
          "scatter3d": [
           {
            "line": {
             "colorbar": {
              "outlinewidth": 0,
              "ticks": ""
             }
            },
            "marker": {
             "colorbar": {
              "outlinewidth": 0,
              "ticks": ""
             }
            },
            "type": "scatter3d"
           }
          ],
          "scattercarpet": [
           {
            "marker": {
             "colorbar": {
              "outlinewidth": 0,
              "ticks": ""
             }
            },
            "type": "scattercarpet"
           }
          ],
          "scattergeo": [
           {
            "marker": {
             "colorbar": {
              "outlinewidth": 0,
              "ticks": ""
             }
            },
            "type": "scattergeo"
           }
          ],
          "scattergl": [
           {
            "marker": {
             "colorbar": {
              "outlinewidth": 0,
              "ticks": ""
             }
            },
            "type": "scattergl"
           }
          ],
          "scattermapbox": [
           {
            "marker": {
             "colorbar": {
              "outlinewidth": 0,
              "ticks": ""
             }
            },
            "type": "scattermapbox"
           }
          ],
          "scatterpolar": [
           {
            "marker": {
             "colorbar": {
              "outlinewidth": 0,
              "ticks": ""
             }
            },
            "type": "scatterpolar"
           }
          ],
          "scatterpolargl": [
           {
            "marker": {
             "colorbar": {
              "outlinewidth": 0,
              "ticks": ""
             }
            },
            "type": "scatterpolargl"
           }
          ],
          "scatterternary": [
           {
            "marker": {
             "colorbar": {
              "outlinewidth": 0,
              "ticks": ""
             }
            },
            "type": "scatterternary"
           }
          ],
          "surface": [
           {
            "colorbar": {
             "outlinewidth": 0,
             "ticks": ""
            },
            "colorscale": [
             [
              0,
              "#0d0887"
             ],
             [
              0.1111111111111111,
              "#46039f"
             ],
             [
              0.2222222222222222,
              "#7201a8"
             ],
             [
              0.3333333333333333,
              "#9c179e"
             ],
             [
              0.4444444444444444,
              "#bd3786"
             ],
             [
              0.5555555555555556,
              "#d8576b"
             ],
             [
              0.6666666666666666,
              "#ed7953"
             ],
             [
              0.7777777777777778,
              "#fb9f3a"
             ],
             [
              0.8888888888888888,
              "#fdca26"
             ],
             [
              1,
              "#f0f921"
             ]
            ],
            "type": "surface"
           }
          ],
          "table": [
           {
            "cells": {
             "fill": {
              "color": "#EBF0F8"
             },
             "line": {
              "color": "white"
             }
            },
            "header": {
             "fill": {
              "color": "#C8D4E3"
             },
             "line": {
              "color": "white"
             }
            },
            "type": "table"
           }
          ]
         },
         "layout": {
          "annotationdefaults": {
           "arrowcolor": "#2a3f5f",
           "arrowhead": 0,
           "arrowwidth": 1
          },
          "autotypenumbers": "strict",
          "coloraxis": {
           "colorbar": {
            "outlinewidth": 0,
            "ticks": ""
           }
          },
          "colorscale": {
           "diverging": [
            [
             0,
             "#8e0152"
            ],
            [
             0.1,
             "#c51b7d"
            ],
            [
             0.2,
             "#de77ae"
            ],
            [
             0.3,
             "#f1b6da"
            ],
            [
             0.4,
             "#fde0ef"
            ],
            [
             0.5,
             "#f7f7f7"
            ],
            [
             0.6,
             "#e6f5d0"
            ],
            [
             0.7,
             "#b8e186"
            ],
            [
             0.8,
             "#7fbc41"
            ],
            [
             0.9,
             "#4d9221"
            ],
            [
             1,
             "#276419"
            ]
           ],
           "sequential": [
            [
             0,
             "#0d0887"
            ],
            [
             0.1111111111111111,
             "#46039f"
            ],
            [
             0.2222222222222222,
             "#7201a8"
            ],
            [
             0.3333333333333333,
             "#9c179e"
            ],
            [
             0.4444444444444444,
             "#bd3786"
            ],
            [
             0.5555555555555556,
             "#d8576b"
            ],
            [
             0.6666666666666666,
             "#ed7953"
            ],
            [
             0.7777777777777778,
             "#fb9f3a"
            ],
            [
             0.8888888888888888,
             "#fdca26"
            ],
            [
             1,
             "#f0f921"
            ]
           ],
           "sequentialminus": [
            [
             0,
             "#0d0887"
            ],
            [
             0.1111111111111111,
             "#46039f"
            ],
            [
             0.2222222222222222,
             "#7201a8"
            ],
            [
             0.3333333333333333,
             "#9c179e"
            ],
            [
             0.4444444444444444,
             "#bd3786"
            ],
            [
             0.5555555555555556,
             "#d8576b"
            ],
            [
             0.6666666666666666,
             "#ed7953"
            ],
            [
             0.7777777777777778,
             "#fb9f3a"
            ],
            [
             0.8888888888888888,
             "#fdca26"
            ],
            [
             1,
             "#f0f921"
            ]
           ]
          },
          "colorway": [
           "#636efa",
           "#EF553B",
           "#00cc96",
           "#ab63fa",
           "#FFA15A",
           "#19d3f3",
           "#FF6692",
           "#B6E880",
           "#FF97FF",
           "#FECB52"
          ],
          "font": {
           "color": "#2a3f5f"
          },
          "geo": {
           "bgcolor": "white",
           "lakecolor": "white",
           "landcolor": "#E5ECF6",
           "showlakes": true,
           "showland": true,
           "subunitcolor": "white"
          },
          "hoverlabel": {
           "align": "left"
          },
          "hovermode": "closest",
          "mapbox": {
           "style": "light"
          },
          "paper_bgcolor": "white",
          "plot_bgcolor": "#E5ECF6",
          "polar": {
           "angularaxis": {
            "gridcolor": "white",
            "linecolor": "white",
            "ticks": ""
           },
           "bgcolor": "#E5ECF6",
           "radialaxis": {
            "gridcolor": "white",
            "linecolor": "white",
            "ticks": ""
           }
          },
          "scene": {
           "xaxis": {
            "backgroundcolor": "#E5ECF6",
            "gridcolor": "white",
            "gridwidth": 2,
            "linecolor": "white",
            "showbackground": true,
            "ticks": "",
            "zerolinecolor": "white"
           },
           "yaxis": {
            "backgroundcolor": "#E5ECF6",
            "gridcolor": "white",
            "gridwidth": 2,
            "linecolor": "white",
            "showbackground": true,
            "ticks": "",
            "zerolinecolor": "white"
           },
           "zaxis": {
            "backgroundcolor": "#E5ECF6",
            "gridcolor": "white",
            "gridwidth": 2,
            "linecolor": "white",
            "showbackground": true,
            "ticks": "",
            "zerolinecolor": "white"
           }
          },
          "shapedefaults": {
           "line": {
            "color": "#2a3f5f"
           }
          },
          "ternary": {
           "aaxis": {
            "gridcolor": "white",
            "linecolor": "white",
            "ticks": ""
           },
           "baxis": {
            "gridcolor": "white",
            "linecolor": "white",
            "ticks": ""
           },
           "bgcolor": "#E5ECF6",
           "caxis": {
            "gridcolor": "white",
            "linecolor": "white",
            "ticks": ""
           }
          },
          "title": {
           "x": 0.05
          },
          "xaxis": {
           "automargin": true,
           "gridcolor": "white",
           "linecolor": "white",
           "ticks": "",
           "title": {
            "standoff": 15
           },
           "zerolinecolor": "white",
           "zerolinewidth": 2
          },
          "yaxis": {
           "automargin": true,
           "gridcolor": "white",
           "linecolor": "white",
           "ticks": "",
           "title": {
            "standoff": 15
           },
           "zerolinecolor": "white",
           "zerolinewidth": 2
          }
         }
        },
        "title": {
         "text": "The risk of Cardiac disease by increasing colesterol"
        },
        "xaxis": {
         "anchor": "y",
         "categoryarray": [
          "Normal",
          "Above Normal",
          "Well Above Normal"
         ],
         "categoryorder": "array",
         "domain": [
          0,
          1
         ],
         "title": {
          "text": "The amount of Cholesterol"
         }
        },
        "yaxis": {
         "anchor": "x",
         "domain": [
          0,
          1
         ],
         "title": {
          "text": "The Cardiac disease by average"
         }
        }
       }
      }
     },
     "metadata": {},
     "output_type": "display_data"
    }
   ],
   "source": [
    "age_chol = pd.DataFrame({\n",
    "    'The Cardiac disease by average' : org.groupby('cholesterol')['cardio'].mean(numeric_only=True),\n",
    "    'The amount of Cholesterol' : ['Normal', 'Above Normal', 'Well Above Normal']\n",
    "})\n",
    "px.bar(age_chol, 'The amount of Cholesterol', 'The Cardiac disease by average',\n",
    "       color='The amount of Cholesterol', title='The risk of Cardiac disease by increasing colesterol')"
   ]
  },
  {
   "cell_type": "code",
   "execution_count": 20,
   "metadata": {},
   "outputs": [],
   "source": [
    "numeric_columns = org.select_dtypes(include=[int, float]).columns"
   ]
  },
  {
   "cell_type": "code",
   "execution_count": 21,
   "metadata": {},
   "outputs": [
    {
     "data": {
      "image/png": "[encoded data removed]",
      "text/plain": [
       "<Figure size 1200x500 with 2 Axes>"
      ]
     },
     "metadata": {},
     "output_type": "display_data"
    },
    {
     "data": {
      "image/png": "[encoded data removed]",
      "text/plain": [
       "<Figure size 1200x500 with 2 Axes>"
      ]
     },
     "metadata": {},
     "output_type": "display_data"
    },
    {
     "data": {
      "image/png": "[encoded data removed]",
      "text/plain": [
       "<Figure size 1200x500 with 2 Axes>"
      ]
     },
     "metadata": {},
     "output_type": "display_data"
    },
    {
     "data": {
      "image/png": "[encoded data removed]",
      "text/plain": [
       "<Figure size 1200x500 with 2 Axes>"
      ]
     },
     "metadata": {},
     "output_type": "display_data"
    },
    {
     "data": {
      "image/png": "[encoded data removed]",
      "text/plain": [
       "<Figure size 1200x500 with 2 Axes>"
      ]
     },
     "metadata": {},
     "output_type": "display_data"
    },
    {
     "data": {
      "image/png": "[encoded data removed]",
      "text/plain": [
       "<Figure size 1200x500 with 2 Axes>"
      ]
     },
     "metadata": {},
     "output_type": "display_data"
    },
    {
     "data": {
      "image/png": "[encoded data removed]",
      "text/plain": [
       "<Figure size 1200x500 with 2 Axes>"
      ]
     },
     "metadata": {},
     "output_type": "display_data"
    },
    {
     "data": {
      "image/png": "[encoded data removed]",
      "text/plain": [
       "<Figure size 1200x500 with 2 Axes>"
      ]
     },
     "metadata": {},
     "output_type": "display_data"
    },
    {
     "data": {
      "image/png": "[encoded data removed]",
      "text/plain": [
       "<Figure size 1200x500 with 2 Axes>"
      ]
     },
     "metadata": {},
     "output_type": "display_data"
    },
    {
     "data": {
      "image/png": "[encoded data removed]",
      "text/plain": [
       "<Figure size 1200x500 with 2 Axes>"
      ]
     },
     "metadata": {},
     "output_type": "display_data"
    },
    {
     "data": {
      "image/png": "[encoded data removed]",
      "text/plain": [
       "<Figure size 1200x500 with 2 Axes>"
      ]
     },
     "metadata": {},
     "output_type": "display_data"
    },
    {
     "data": {
      "image/png": "[encoded data removed]",
      "text/plain": [
       "<Figure size 1200x500 with 2 Axes>"
      ]
     },
     "metadata": {},
     "output_type": "display_data"
    },
    {
     "data": {
      "image/png": "[encoded data removed]",
      "text/plain": [
       "<Figure size 1200x500 with 2 Axes>"
      ]
     },
     "metadata": {},
     "output_type": "display_data"
    },
    {
     "data": {
      "image/png": "[encoded data removed]",
      "text/plain": [
       "<Figure size 1200x500 with 2 Axes>"
      ]
     },
     "metadata": {},
     "output_type": "display_data"
    }
   ],
   "source": [
    "for col in numeric_columns:\n",
    "    fig, axes = plt.subplots(1, 2, figsize=(12, 5))\n",
    "\n",
    "    # Plot histogram\n",
    "    sns.histplot(org, x=col, kde=True, ax=axes[0])\n",
    "    axes[0].set_title('Histogram of ' + col)\n",
    "\n",
    "    # Plot boxplot\n",
    "    sns.boxplot(x=org[col], ax=axes[1])\n",
    "    axes[1].set_title('Boxplot of ' + col)\n",
    "\n",
    "    plt.show()"
   ]
  },
  {
   "cell_type": "code",
   "execution_count": 22,
   "metadata": {},
   "outputs": [],
   "source": [
    "df, dftrac = train_test_split(org, test_size=0.3, random_state=42)\n",
    "\n",
    "# Enregistrer l'ensemble de test (20 %) dans un fichier CSV\n",
    "#dftrac.to_csv('test_data.csv', index=False)"
   ]
  },
  {
   "cell_type": "code",
   "execution_count": 23,
   "metadata": {},
   "outputs": [],
   "source": [
    "#df.to_csv('datatraining.csv', index=False)"
   ]
  },
  {
   "cell_type": "code",
   "execution_count": 24,
   "metadata": {},
   "outputs": [
    {
     "name": "stdout",
     "output_type": "stream",
     "text": [
      "<class 'pandas.core.frame.DataFrame'>\n",
      "Int64Index: 49000 entries, 68681 to 15795\n",
      "Data columns (total 14 columns):\n",
      " #   Column       Non-Null Count  Dtype  \n",
      "---  ------       --------------  -----  \n",
      " 0   id           49000 non-null  int64  \n",
      " 1   age          49000 non-null  int64  \n",
      " 2   gender       49000 non-null  int64  \n",
      " 3   height       49000 non-null  int64  \n",
      " 4   weight       49000 non-null  float64\n",
      " 5   ap_hi        49000 non-null  int64  \n",
      " 6   ap_lo        49000 non-null  int64  \n",
      " 7   cholesterol  49000 non-null  int64  \n",
      " 8   gluc         49000 non-null  int64  \n",
      " 9   smoke        49000 non-null  int64  \n",
      " 10  alco         49000 non-null  int64  \n",
      " 11  active       49000 non-null  int64  \n",
      " 12  cardio       49000 non-null  int64  \n",
      " 13  new_age      49000 non-null  float64\n",
      "dtypes: float64(2), int64(12)\n",
      "memory usage: 5.6 MB\n"
     ]
    }
   ],
   "source": [
    "df.info()"
   ]
  },
  {
   "cell_type": "code",
   "execution_count": 25,
   "metadata": {},
   "outputs": [
    {
     "data": {
      "text/plain": [
       "id             0\n",
       "age            0\n",
       "gender         0\n",
       "height         0\n",
       "weight         0\n",
       "ap_hi          0\n",
       "ap_lo          0\n",
       "cholesterol    0\n",
       "gluc           0\n",
       "smoke          0\n",
       "alco           0\n",
       "active         0\n",
       "cardio         0\n",
       "new_age        0\n",
       "dtype: int64"
      ]
     },
     "execution_count": 25,
     "metadata": {},
     "output_type": "execute_result"
    }
   ],
   "source": [
    "df.isnull().sum()"
   ]
  },
  {
   "cell_type": "code",
   "execution_count": 26,
   "metadata": {},
   "outputs": [
    {
     "data": {
      "text/plain": [
       "Index(['id', 'age', 'gender', 'height', 'weight', 'ap_hi', 'ap_lo',\n",
       "       'cholesterol', 'gluc', 'smoke', 'alco', 'active', 'cardio', 'new_age'],\n",
       "      dtype='object')"
      ]
     },
     "execution_count": 26,
     "metadata": {},
     "output_type": "execute_result"
    }
   ],
   "source": [
    "df.columns"
   ]
  },
  {
   "cell_type": "code",
   "execution_count": 27,
   "metadata": {},
   "outputs": [
    {
     "data": {
      "text/html": [
       "<div>\n",
       "<style scoped>\n",
       "    .dataframe tbody tr th:only-of-type {\n",
       "        vertical-align: middle;\n",
       "    }\n",
       "\n",
       "    .dataframe tbody tr th {\n",
       "        vertical-align: top;\n",
       "    }\n",
       "\n",
       "    .dataframe thead th {\n",
       "        text-align: right;\n",
       "    }\n",
       "</style>\n",
       "<table border=\"1\" class=\"dataframe\">\n",
       "  <thead>\n",
       "    <tr style=\"text-align: right;\">\n",
       "      <th></th>\n",
       "      <th>id</th>\n",
       "      <th>age</th>\n",
       "      <th>gender</th>\n",
       "      <th>height</th>\n",
       "      <th>weight</th>\n",
       "      <th>ap_hi</th>\n",
       "      <th>ap_lo</th>\n",
       "      <th>cholesterol</th>\n",
       "      <th>gluc</th>\n",
       "      <th>smoke</th>\n",
       "      <th>alco</th>\n",
       "      <th>active</th>\n",
       "      <th>cardio</th>\n",
       "      <th>new_age</th>\n",
       "    </tr>\n",
       "  </thead>\n",
       "  <tbody>\n",
       "    <tr>\n",
       "      <th>68681</th>\n",
       "      <td>98125</td>\n",
       "      <td>20417</td>\n",
       "      <td>1</td>\n",
       "      <td>160</td>\n",
       "      <td>64.0</td>\n",
       "      <td>120</td>\n",
       "      <td>90</td>\n",
       "      <td>3</td>\n",
       "      <td>1</td>\n",
       "      <td>0</td>\n",
       "      <td>0</td>\n",
       "      <td>1</td>\n",
       "      <td>1</td>\n",
       "      <td>56.0</td>\n",
       "    </tr>\n",
       "    <tr>\n",
       "      <th>19961</th>\n",
       "      <td>28510</td>\n",
       "      <td>22690</td>\n",
       "      <td>2</td>\n",
       "      <td>167</td>\n",
       "      <td>65.0</td>\n",
       "      <td>120</td>\n",
       "      <td>80</td>\n",
       "      <td>3</td>\n",
       "      <td>3</td>\n",
       "      <td>0</td>\n",
       "      <td>0</td>\n",
       "      <td>0</td>\n",
       "      <td>0</td>\n",
       "      <td>62.0</td>\n",
       "    </tr>\n",
       "    <tr>\n",
       "      <th>11040</th>\n",
       "      <td>15795</td>\n",
       "      <td>22784</td>\n",
       "      <td>1</td>\n",
       "      <td>160</td>\n",
       "      <td>66.0</td>\n",
       "      <td>120</td>\n",
       "      <td>90</td>\n",
       "      <td>1</td>\n",
       "      <td>1</td>\n",
       "      <td>0</td>\n",
       "      <td>0</td>\n",
       "      <td>1</td>\n",
       "      <td>1</td>\n",
       "      <td>62.0</td>\n",
       "    </tr>\n",
       "    <tr>\n",
       "      <th>27673</th>\n",
       "      <td>39560</td>\n",
       "      <td>22648</td>\n",
       "      <td>1</td>\n",
       "      <td>163</td>\n",
       "      <td>55.0</td>\n",
       "      <td>125</td>\n",
       "      <td>90</td>\n",
       "      <td>3</td>\n",
       "      <td>1</td>\n",
       "      <td>0</td>\n",
       "      <td>0</td>\n",
       "      <td>1</td>\n",
       "      <td>1</td>\n",
       "      <td>62.0</td>\n",
       "    </tr>\n",
       "    <tr>\n",
       "      <th>22876</th>\n",
       "      <td>32677</td>\n",
       "      <td>21712</td>\n",
       "      <td>1</td>\n",
       "      <td>158</td>\n",
       "      <td>85.0</td>\n",
       "      <td>150</td>\n",
       "      <td>80</td>\n",
       "      <td>3</td>\n",
       "      <td>1</td>\n",
       "      <td>0</td>\n",
       "      <td>0</td>\n",
       "      <td>1</td>\n",
       "      <td>1</td>\n",
       "      <td>59.0</td>\n",
       "    </tr>\n",
       "  </tbody>\n",
       "</table>\n",
       "</div>"
      ],
      "text/plain": [
       "          id    age  gender  height  weight  ap_hi  ap_lo  cholesterol  gluc  \\\n",
       "68681  98125  20417       1     160    64.0    120     90            3     1   \n",
       "19961  28510  22690       2     167    65.0    120     80            3     3   \n",
       "11040  15795  22784       1     160    66.0    120     90            1     1   \n",
       "27673  39560  22648       1     163    55.0    125     90            3     1   \n",
       "22876  32677  21712       1     158    85.0    150     80            3     1   \n",
       "\n",
       "       smoke  alco  active  cardio  new_age  \n",
       "68681      0     0       1       1     56.0  \n",
       "19961      0     0       0       0     62.0  \n",
       "11040      0     0       1       1     62.0  \n",
       "27673      0     0       1       1     62.0  \n",
       "22876      0     0       1       1     59.0  "
      ]
     },
     "execution_count": 27,
     "metadata": {},
     "output_type": "execute_result"
    }
   ],
   "source": [
    "df.head()"
   ]
  },
  {
   "cell_type": "markdown",
   "metadata": {},
   "source": [
    "#   traitement de gender  "
   ]
  },
  {
   "cell_type": "code",
   "execution_count": 28,
   "metadata": {},
   "outputs": [
    {
     "data": {
      "text/plain": [
       "array([1, 2], dtype=int64)"
      ]
     },
     "execution_count": 28,
     "metadata": {},
     "output_type": "execute_result"
    }
   ],
   "source": [
    "df[\"gender\"].unique()"
   ]
  },
  {
   "cell_type": "code",
   "execution_count": 29,
   "metadata": {},
   "outputs": [],
   "source": [
    "df['gender'] = df['gender'].replace({2: \"male\", 1: \"female\"})"
   ]
  },
  {
   "cell_type": "code",
   "execution_count": 30,
   "metadata": {},
   "outputs": [
    {
     "data": {
      "text/html": [
       "<div>\n",
       "<style scoped>\n",
       "    .dataframe tbody tr th:only-of-type {\n",
       "        vertical-align: middle;\n",
       "    }\n",
       "\n",
       "    .dataframe tbody tr th {\n",
       "        vertical-align: top;\n",
       "    }\n",
       "\n",
       "    .dataframe thead th {\n",
       "        text-align: right;\n",
       "    }\n",
       "</style>\n",
       "<table border=\"1\" class=\"dataframe\">\n",
       "  <thead>\n",
       "    <tr style=\"text-align: right;\">\n",
       "      <th></th>\n",
       "      <th>id</th>\n",
       "      <th>age</th>\n",
       "      <th>gender</th>\n",
       "      <th>height</th>\n",
       "      <th>weight</th>\n",
       "      <th>ap_hi</th>\n",
       "      <th>ap_lo</th>\n",
       "      <th>cholesterol</th>\n",
       "      <th>gluc</th>\n",
       "      <th>smoke</th>\n",
       "      <th>alco</th>\n",
       "      <th>active</th>\n",
       "      <th>cardio</th>\n",
       "      <th>new_age</th>\n",
       "    </tr>\n",
       "  </thead>\n",
       "  <tbody>\n",
       "    <tr>\n",
       "      <th>68681</th>\n",
       "      <td>98125</td>\n",
       "      <td>20417</td>\n",
       "      <td>female</td>\n",
       "      <td>160</td>\n",
       "      <td>64.0</td>\n",
       "      <td>120</td>\n",
       "      <td>90</td>\n",
       "      <td>3</td>\n",
       "      <td>1</td>\n",
       "      <td>0</td>\n",
       "      <td>0</td>\n",
       "      <td>1</td>\n",
       "      <td>1</td>\n",
       "      <td>56.0</td>\n",
       "    </tr>\n",
       "    <tr>\n",
       "      <th>19961</th>\n",
       "      <td>28510</td>\n",
       "      <td>22690</td>\n",
       "      <td>male</td>\n",
       "      <td>167</td>\n",
       "      <td>65.0</td>\n",
       "      <td>120</td>\n",
       "      <td>80</td>\n",
       "      <td>3</td>\n",
       "      <td>3</td>\n",
       "      <td>0</td>\n",
       "      <td>0</td>\n",
       "      <td>0</td>\n",
       "      <td>0</td>\n",
       "      <td>62.0</td>\n",
       "    </tr>\n",
       "    <tr>\n",
       "      <th>11040</th>\n",
       "      <td>15795</td>\n",
       "      <td>22784</td>\n",
       "      <td>female</td>\n",
       "      <td>160</td>\n",
       "      <td>66.0</td>\n",
       "      <td>120</td>\n",
       "      <td>90</td>\n",
       "      <td>1</td>\n",
       "      <td>1</td>\n",
       "      <td>0</td>\n",
       "      <td>0</td>\n",
       "      <td>1</td>\n",
       "      <td>1</td>\n",
       "      <td>62.0</td>\n",
       "    </tr>\n",
       "    <tr>\n",
       "      <th>27673</th>\n",
       "      <td>39560</td>\n",
       "      <td>22648</td>\n",
       "      <td>female</td>\n",
       "      <td>163</td>\n",
       "      <td>55.0</td>\n",
       "      <td>125</td>\n",
       "      <td>90</td>\n",
       "      <td>3</td>\n",
       "      <td>1</td>\n",
       "      <td>0</td>\n",
       "      <td>0</td>\n",
       "      <td>1</td>\n",
       "      <td>1</td>\n",
       "      <td>62.0</td>\n",
       "    </tr>\n",
       "    <tr>\n",
       "      <th>22876</th>\n",
       "      <td>32677</td>\n",
       "      <td>21712</td>\n",
       "      <td>female</td>\n",
       "      <td>158</td>\n",
       "      <td>85.0</td>\n",
       "      <td>150</td>\n",
       "      <td>80</td>\n",
       "      <td>3</td>\n",
       "      <td>1</td>\n",
       "      <td>0</td>\n",
       "      <td>0</td>\n",
       "      <td>1</td>\n",
       "      <td>1</td>\n",
       "      <td>59.0</td>\n",
       "    </tr>\n",
       "  </tbody>\n",
       "</table>\n",
       "</div>"
      ],
      "text/plain": [
       "          id    age  gender  height  weight  ap_hi  ap_lo  cholesterol  gluc  \\\n",
       "68681  98125  20417  female     160    64.0    120     90            3     1   \n",
       "19961  28510  22690    male     167    65.0    120     80            3     3   \n",
       "11040  15795  22784  female     160    66.0    120     90            1     1   \n",
       "27673  39560  22648  female     163    55.0    125     90            3     1   \n",
       "22876  32677  21712  female     158    85.0    150     80            3     1   \n",
       "\n",
       "       smoke  alco  active  cardio  new_age  \n",
       "68681      0     0       1       1     56.0  \n",
       "19961      0     0       0       0     62.0  \n",
       "11040      0     0       1       1     62.0  \n",
       "27673      0     0       1       1     62.0  \n",
       "22876      0     0       1       1     59.0  "
      ]
     },
     "execution_count": 30,
     "metadata": {},
     "output_type": "execute_result"
    }
   ],
   "source": [
    "df.head()"
   ]
  },
  {
   "cell_type": "code",
   "execution_count": 31,
   "metadata": {},
   "outputs": [
    {
     "data": {
      "text/html": [
       "<div>\n",
       "<style scoped>\n",
       "    .dataframe tbody tr th:only-of-type {\n",
       "        vertical-align: middle;\n",
       "    }\n",
       "\n",
       "    .dataframe tbody tr th {\n",
       "        vertical-align: top;\n",
       "    }\n",
       "\n",
       "    .dataframe thead th {\n",
       "        text-align: right;\n",
       "    }\n",
       "</style>\n",
       "<table border=\"1\" class=\"dataframe\">\n",
       "  <thead>\n",
       "    <tr style=\"text-align: right;\">\n",
       "      <th></th>\n",
       "      <th>id</th>\n",
       "      <th>age</th>\n",
       "      <th>height</th>\n",
       "      <th>weight</th>\n",
       "      <th>ap_hi</th>\n",
       "      <th>ap_lo</th>\n",
       "      <th>cholesterol</th>\n",
       "      <th>gluc</th>\n",
       "      <th>smoke</th>\n",
       "      <th>alco</th>\n",
       "      <th>active</th>\n",
       "      <th>cardio</th>\n",
       "      <th>new_age</th>\n",
       "    </tr>\n",
       "    <tr>\n",
       "      <th>gender</th>\n",
       "      <th></th>\n",
       "      <th></th>\n",
       "      <th></th>\n",
       "      <th></th>\n",
       "      <th></th>\n",
       "      <th></th>\n",
       "      <th></th>\n",
       "      <th></th>\n",
       "      <th></th>\n",
       "      <th></th>\n",
       "      <th></th>\n",
       "      <th></th>\n",
       "      <th></th>\n",
       "    </tr>\n",
       "  </thead>\n",
       "  <tbody>\n",
       "    <tr>\n",
       "      <th>female</th>\n",
       "      <td>49807.167587</td>\n",
       "      <td>19502.030970</td>\n",
       "      <td>161.351145</td>\n",
       "      <td>72.546524</td>\n",
       "      <td>127.913869</td>\n",
       "      <td>94.458362</td>\n",
       "      <td>1.387198</td>\n",
       "      <td>1.234233</td>\n",
       "      <td>0.018293</td>\n",
       "      <td>0.026294</td>\n",
       "      <td>0.801820</td>\n",
       "      <td>0.496392</td>\n",
       "      <td>53.430279</td>\n",
       "    </tr>\n",
       "    <tr>\n",
       "      <th>male</th>\n",
       "      <td>50137.926095</td>\n",
       "      <td>19376.826795</td>\n",
       "      <td>169.933158</td>\n",
       "      <td>77.223164</td>\n",
       "      <td>130.717221</td>\n",
       "      <td>102.021424</td>\n",
       "      <td>1.334092</td>\n",
       "      <td>1.208348</td>\n",
       "      <td>0.221483</td>\n",
       "      <td>0.109165</td>\n",
       "      <td>0.806363</td>\n",
       "      <td>0.503211</td>\n",
       "      <td>53.085581</td>\n",
       "    </tr>\n",
       "  </tbody>\n",
       "</table>\n",
       "</div>"
      ],
      "text/plain": [
       "                  id           age      height     weight       ap_hi  \\\n",
       "gender                                                                  \n",
       "female  49807.167587  19502.030970  161.351145  72.546524  127.913869   \n",
       "male    50137.926095  19376.826795  169.933158  77.223164  130.717221   \n",
       "\n",
       "             ap_lo  cholesterol      gluc     smoke      alco    active  \\\n",
       "gender                                                                    \n",
       "female   94.458362     1.387198  1.234233  0.018293  0.026294  0.801820   \n",
       "male    102.021424     1.334092  1.208348  0.221483  0.109165  0.806363   \n",
       "\n",
       "          cardio    new_age  \n",
       "gender                       \n",
       "female  0.496392  53.430279  \n",
       "male    0.503211  53.085581  "
      ]
     },
     "execution_count": 31,
     "metadata": {},
     "output_type": "execute_result"
    }
   ],
   "source": [
    "df.groupby(\"gender\").mean()"
   ]
  },
  {
   "cell_type": "markdown",
   "metadata": {},
   "source": [
    "#   traitement de Cholesterol "
   ]
  },
  {
   "cell_type": "code",
   "execution_count": 32,
   "metadata": {},
   "outputs": [
    {
     "data": {
      "text/plain": [
       "array([3, 1, 2], dtype=int64)"
      ]
     },
     "execution_count": 32,
     "metadata": {},
     "output_type": "execute_result"
    }
   ],
   "source": [
    "df[\"cholesterol\"].unique()"
   ]
  },
  {
   "cell_type": "code",
   "execution_count": 33,
   "metadata": {},
   "outputs": [],
   "source": [
    "df['cholesterol'] = df['cholesterol'].replace({1: \"normal\", 2: \"above normal\",3:\"well above normal\"})"
   ]
  },
  {
   "cell_type": "code",
   "execution_count": 34,
   "metadata": {},
   "outputs": [
    {
     "data": {
      "text/plain": [
       "array(['well above normal', 'normal', 'above normal'], dtype=object)"
      ]
     },
     "execution_count": 34,
     "metadata": {},
     "output_type": "execute_result"
    }
   ],
   "source": [
    "df['cholesterol'].unique()"
   ]
  },
  {
   "cell_type": "markdown",
   "metadata": {},
   "source": [
    "#   traitement de glucose"
   ]
  },
  {
   "cell_type": "code",
   "execution_count": 35,
   "metadata": {},
   "outputs": [],
   "source": [
    "df['gluc'] = df['gluc'].replace({1: \"normal\", 2: \"above normal\",3:\"well above normal\"})"
   ]
  },
  {
   "cell_type": "markdown",
   "metadata": {},
   "source": [
    "#   modifier l'unitè de age de jours vers ans"
   ]
  },
  {
   "cell_type": "code",
   "execution_count": 36,
   "metadata": {},
   "outputs": [],
   "source": [
    "df[\"age\"] = df[\"age\"].map(lambda x: x // 365)"
   ]
  },
  {
   "cell_type": "code",
   "execution_count": 37,
   "metadata": {},
   "outputs": [
    {
     "name": "stdout",
     "output_type": "stream",
     "text": [
      "<class 'pandas.core.frame.DataFrame'>\n",
      "Int64Index: 49000 entries, 68681 to 15795\n",
      "Data columns (total 14 columns):\n",
      " #   Column       Non-Null Count  Dtype  \n",
      "---  ------       --------------  -----  \n",
      " 0   id           49000 non-null  int64  \n",
      " 1   age          49000 non-null  int64  \n",
      " 2   gender       49000 non-null  object \n",
      " 3   height       49000 non-null  int64  \n",
      " 4   weight       49000 non-null  float64\n",
      " 5   ap_hi        49000 non-null  int64  \n",
      " 6   ap_lo        49000 non-null  int64  \n",
      " 7   cholesterol  49000 non-null  object \n",
      " 8   gluc         49000 non-null  object \n",
      " 9   smoke        49000 non-null  int64  \n",
      " 10  alco         49000 non-null  int64  \n",
      " 11  active       49000 non-null  int64  \n",
      " 12  cardio       49000 non-null  int64  \n",
      " 13  new_age      49000 non-null  float64\n",
      "dtypes: float64(2), int64(9), object(3)\n",
      "memory usage: 5.6+ MB\n"
     ]
    }
   ],
   "source": [
    "df.info()"
   ]
  },
  {
   "cell_type": "code",
   "execution_count": 38,
   "metadata": {},
   "outputs": [
    {
     "data": {
      "text/html": [
       "<div>\n",
       "<style scoped>\n",
       "    .dataframe tbody tr th:only-of-type {\n",
       "        vertical-align: middle;\n",
       "    }\n",
       "\n",
       "    .dataframe tbody tr th {\n",
       "        vertical-align: top;\n",
       "    }\n",
       "\n",
       "    .dataframe thead th {\n",
       "        text-align: right;\n",
       "    }\n",
       "</style>\n",
       "<table border=\"1\" class=\"dataframe\">\n",
       "  <thead>\n",
       "    <tr style=\"text-align: right;\">\n",
       "      <th></th>\n",
       "      <th>id</th>\n",
       "      <th>age</th>\n",
       "      <th>gender</th>\n",
       "      <th>height</th>\n",
       "      <th>weight</th>\n",
       "      <th>ap_hi</th>\n",
       "      <th>ap_lo</th>\n",
       "      <th>cholesterol</th>\n",
       "      <th>gluc</th>\n",
       "      <th>smoke</th>\n",
       "      <th>alco</th>\n",
       "      <th>active</th>\n",
       "      <th>cardio</th>\n",
       "      <th>new_age</th>\n",
       "    </tr>\n",
       "  </thead>\n",
       "  <tbody>\n",
       "    <tr>\n",
       "      <th>68681</th>\n",
       "      <td>98125</td>\n",
       "      <td>55</td>\n",
       "      <td>female</td>\n",
       "      <td>160</td>\n",
       "      <td>64.0</td>\n",
       "      <td>120</td>\n",
       "      <td>90</td>\n",
       "      <td>well above normal</td>\n",
       "      <td>normal</td>\n",
       "      <td>0</td>\n",
       "      <td>0</td>\n",
       "      <td>1</td>\n",
       "      <td>1</td>\n",
       "      <td>56.0</td>\n",
       "    </tr>\n",
       "    <tr>\n",
       "      <th>19961</th>\n",
       "      <td>28510</td>\n",
       "      <td>62</td>\n",
       "      <td>male</td>\n",
       "      <td>167</td>\n",
       "      <td>65.0</td>\n",
       "      <td>120</td>\n",
       "      <td>80</td>\n",
       "      <td>well above normal</td>\n",
       "      <td>well above normal</td>\n",
       "      <td>0</td>\n",
       "      <td>0</td>\n",
       "      <td>0</td>\n",
       "      <td>0</td>\n",
       "      <td>62.0</td>\n",
       "    </tr>\n",
       "    <tr>\n",
       "      <th>11040</th>\n",
       "      <td>15795</td>\n",
       "      <td>62</td>\n",
       "      <td>female</td>\n",
       "      <td>160</td>\n",
       "      <td>66.0</td>\n",
       "      <td>120</td>\n",
       "      <td>90</td>\n",
       "      <td>normal</td>\n",
       "      <td>normal</td>\n",
       "      <td>0</td>\n",
       "      <td>0</td>\n",
       "      <td>1</td>\n",
       "      <td>1</td>\n",
       "      <td>62.0</td>\n",
       "    </tr>\n",
       "    <tr>\n",
       "      <th>27673</th>\n",
       "      <td>39560</td>\n",
       "      <td>62</td>\n",
       "      <td>female</td>\n",
       "      <td>163</td>\n",
       "      <td>55.0</td>\n",
       "      <td>125</td>\n",
       "      <td>90</td>\n",
       "      <td>well above normal</td>\n",
       "      <td>normal</td>\n",
       "      <td>0</td>\n",
       "      <td>0</td>\n",
       "      <td>1</td>\n",
       "      <td>1</td>\n",
       "      <td>62.0</td>\n",
       "    </tr>\n",
       "    <tr>\n",
       "      <th>22876</th>\n",
       "      <td>32677</td>\n",
       "      <td>59</td>\n",
       "      <td>female</td>\n",
       "      <td>158</td>\n",
       "      <td>85.0</td>\n",
       "      <td>150</td>\n",
       "      <td>80</td>\n",
       "      <td>well above normal</td>\n",
       "      <td>normal</td>\n",
       "      <td>0</td>\n",
       "      <td>0</td>\n",
       "      <td>1</td>\n",
       "      <td>1</td>\n",
       "      <td>59.0</td>\n",
       "    </tr>\n",
       "  </tbody>\n",
       "</table>\n",
       "</div>"
      ],
      "text/plain": [
       "          id  age  gender  height  weight  ap_hi  ap_lo        cholesterol  \\\n",
       "68681  98125   55  female     160    64.0    120     90  well above normal   \n",
       "19961  28510   62    male     167    65.0    120     80  well above normal   \n",
       "11040  15795   62  female     160    66.0    120     90             normal   \n",
       "27673  39560   62  female     163    55.0    125     90  well above normal   \n",
       "22876  32677   59  female     158    85.0    150     80  well above normal   \n",
       "\n",
       "                    gluc  smoke  alco  active  cardio  new_age  \n",
       "68681             normal      0     0       1       1     56.0  \n",
       "19961  well above normal      0     0       0       0     62.0  \n",
       "11040             normal      0     0       1       1     62.0  \n",
       "27673             normal      0     0       1       1     62.0  \n",
       "22876             normal      0     0       1       1     59.0  "
      ]
     },
     "execution_count": 38,
     "metadata": {},
     "output_type": "execute_result"
    }
   ],
   "source": [
    "df.head()"
   ]
  },
  {
   "cell_type": "markdown",
   "metadata": {},
   "source": [
    "#   traitement des outliers "
   ]
  },
  {
   "cell_type": "code",
   "execution_count": 39,
   "metadata": {},
   "outputs": [
    {
     "data": {
      "text/html": [
       "<div>\n",
       "<style scoped>\n",
       "    .dataframe tbody tr th:only-of-type {\n",
       "        vertical-align: middle;\n",
       "    }\n",
       "\n",
       "    .dataframe tbody tr th {\n",
       "        vertical-align: top;\n",
       "    }\n",
       "\n",
       "    .dataframe thead th {\n",
       "        text-align: right;\n",
       "    }\n",
       "</style>\n",
       "<table border=\"1\" class=\"dataframe\">\n",
       "  <thead>\n",
       "    <tr style=\"text-align: right;\">\n",
       "      <th></th>\n",
       "      <th>id</th>\n",
       "      <th>age</th>\n",
       "      <th>height</th>\n",
       "      <th>weight</th>\n",
       "      <th>ap_hi</th>\n",
       "      <th>ap_lo</th>\n",
       "      <th>smoke</th>\n",
       "      <th>alco</th>\n",
       "      <th>active</th>\n",
       "      <th>cardio</th>\n",
       "      <th>new_age</th>\n",
       "    </tr>\n",
       "  </thead>\n",
       "  <tbody>\n",
       "    <tr>\n",
       "      <th>count</th>\n",
       "      <td>49000.000000</td>\n",
       "      <td>49000.000000</td>\n",
       "      <td>49000.000000</td>\n",
       "      <td>49000.000000</td>\n",
       "      <td>49000.000000</td>\n",
       "      <td>49000.000000</td>\n",
       "      <td>49000.000000</td>\n",
       "      <td>49000.000000</td>\n",
       "      <td>49000.000000</td>\n",
       "      <td>49000.000000</td>\n",
       "      <td>49000.000000</td>\n",
       "    </tr>\n",
       "    <tr>\n",
       "      <th>mean</th>\n",
       "      <td>49922.798061</td>\n",
       "      <td>52.812735</td>\n",
       "      <td>164.351347</td>\n",
       "      <td>74.181439</td>\n",
       "      <td>128.893898</td>\n",
       "      <td>97.102347</td>\n",
       "      <td>0.089327</td>\n",
       "      <td>0.055265</td>\n",
       "      <td>0.803408</td>\n",
       "      <td>0.498776</td>\n",
       "      <td>53.309776</td>\n",
       "    </tr>\n",
       "    <tr>\n",
       "      <th>std</th>\n",
       "      <td>28897.596101</td>\n",
       "      <td>6.774974</td>\n",
       "      <td>8.196510</td>\n",
       "      <td>14.377289</td>\n",
       "      <td>158.084444</td>\n",
       "      <td>200.210646</td>\n",
       "      <td>0.285217</td>\n",
       "      <td>0.228500</td>\n",
       "      <td>0.397425</td>\n",
       "      <td>0.500004</td>\n",
       "      <td>6.773129</td>\n",
       "    </tr>\n",
       "    <tr>\n",
       "      <th>min</th>\n",
       "      <td>0.000000</td>\n",
       "      <td>29.000000</td>\n",
       "      <td>55.000000</td>\n",
       "      <td>22.000000</td>\n",
       "      <td>-140.000000</td>\n",
       "      <td>0.000000</td>\n",
       "      <td>0.000000</td>\n",
       "      <td>0.000000</td>\n",
       "      <td>0.000000</td>\n",
       "      <td>0.000000</td>\n",
       "      <td>30.000000</td>\n",
       "    </tr>\n",
       "    <tr>\n",
       "      <th>25%</th>\n",
       "      <td>24916.000000</td>\n",
       "      <td>48.000000</td>\n",
       "      <td>159.000000</td>\n",
       "      <td>65.000000</td>\n",
       "      <td>120.000000</td>\n",
       "      <td>80.000000</td>\n",
       "      <td>0.000000</td>\n",
       "      <td>0.000000</td>\n",
       "      <td>1.000000</td>\n",
       "      <td>0.000000</td>\n",
       "      <td>48.000000</td>\n",
       "    </tr>\n",
       "    <tr>\n",
       "      <th>50%</th>\n",
       "      <td>49938.500000</td>\n",
       "      <td>53.000000</td>\n",
       "      <td>165.000000</td>\n",
       "      <td>72.000000</td>\n",
       "      <td>120.000000</td>\n",
       "      <td>80.000000</td>\n",
       "      <td>0.000000</td>\n",
       "      <td>0.000000</td>\n",
       "      <td>1.000000</td>\n",
       "      <td>0.000000</td>\n",
       "      <td>54.000000</td>\n",
       "    </tr>\n",
       "    <tr>\n",
       "      <th>75%</th>\n",
       "      <td>74936.500000</td>\n",
       "      <td>58.000000</td>\n",
       "      <td>170.000000</td>\n",
       "      <td>82.000000</td>\n",
       "      <td>140.000000</td>\n",
       "      <td>90.000000</td>\n",
       "      <td>0.000000</td>\n",
       "      <td>0.000000</td>\n",
       "      <td>1.000000</td>\n",
       "      <td>1.000000</td>\n",
       "      <td>58.000000</td>\n",
       "    </tr>\n",
       "    <tr>\n",
       "      <th>max</th>\n",
       "      <td>99999.000000</td>\n",
       "      <td>64.000000</td>\n",
       "      <td>250.000000</td>\n",
       "      <td>200.000000</td>\n",
       "      <td>14020.000000</td>\n",
       "      <td>11000.000000</td>\n",
       "      <td>1.000000</td>\n",
       "      <td>1.000000</td>\n",
       "      <td>1.000000</td>\n",
       "      <td>1.000000</td>\n",
       "      <td>65.000000</td>\n",
       "    </tr>\n",
       "  </tbody>\n",
       "</table>\n",
       "</div>"
      ],
      "text/plain": [
       "                 id           age        height        weight         ap_hi  \\\n",
       "count  49000.000000  49000.000000  49000.000000  49000.000000  49000.000000   \n",
       "mean   49922.798061     52.812735    164.351347     74.181439    128.893898   \n",
       "std    28897.596101      6.774974      8.196510     14.377289    158.084444   \n",
       "min        0.000000     29.000000     55.000000     22.000000   -140.000000   \n",
       "25%    24916.000000     48.000000    159.000000     65.000000    120.000000   \n",
       "50%    49938.500000     53.000000    165.000000     72.000000    120.000000   \n",
       "75%    74936.500000     58.000000    170.000000     82.000000    140.000000   \n",
       "max    99999.000000     64.000000    250.000000    200.000000  14020.000000   \n",
       "\n",
       "              ap_lo         smoke          alco        active        cardio  \\\n",
       "count  49000.000000  49000.000000  49000.000000  49000.000000  49000.000000   \n",
       "mean      97.102347      0.089327      0.055265      0.803408      0.498776   \n",
       "std      200.210646      0.285217      0.228500      0.397425      0.500004   \n",
       "min        0.000000      0.000000      0.000000      0.000000      0.000000   \n",
       "25%       80.000000      0.000000      0.000000      1.000000      0.000000   \n",
       "50%       80.000000      0.000000      0.000000      1.000000      0.000000   \n",
       "75%       90.000000      0.000000      0.000000      1.000000      1.000000   \n",
       "max    11000.000000      1.000000      1.000000      1.000000      1.000000   \n",
       "\n",
       "            new_age  \n",
       "count  49000.000000  \n",
       "mean      53.309776  \n",
       "std        6.773129  \n",
       "min       30.000000  \n",
       "25%       48.000000  \n",
       "50%       54.000000  \n",
       "75%       58.000000  \n",
       "max       65.000000  "
      ]
     },
     "execution_count": 39,
     "metadata": {},
     "output_type": "execute_result"
    }
   ],
   "source": [
    "df.describe()"
   ]
  },
  {
   "cell_type": "code",
   "execution_count": 40,
   "metadata": {},
   "outputs": [
    {
     "data": {
      "text/plain": [
       "Index(['id', 'age', 'gender', 'height', 'weight', 'ap_hi', 'ap_lo',\n",
       "       'cholesterol', 'gluc', 'smoke', 'alco', 'active', 'cardio', 'new_age'],\n",
       "      dtype='object')"
      ]
     },
     "execution_count": 40,
     "metadata": {},
     "output_type": "execute_result"
    }
   ],
   "source": [
    "df.columns"
   ]
  },
  {
   "cell_type": "code",
   "execution_count": 41,
   "metadata": {},
   "outputs": [
    {
     "name": "stdout",
     "output_type": "stream",
     "text": [
      "Nombre de valeurs aberrantes dans la colonne 'age': 4\n",
      "Nombre de valeurs aberrantes dans la colonne 'height': 347\n",
      "Nombre de valeurs aberrantes dans la colonne 'weight': 1243\n",
      "Nombre de valeurs aberrantes dans la colonne 'ap_hi': 1014\n",
      "Nombre de valeurs aberrantes dans la colonne 'ap_lo': 3240\n",
      "Nombre de valeurs aberrantes dans la colonne 'smoke': 4377\n",
      "Nombre de valeurs aberrantes dans la colonne 'alco': 2708\n",
      "Nombre de valeurs aberrantes dans la colonne 'active': 9633\n",
      "Nombre de valeurs aberrantes dans la colonne 'cardio': 0\n"
     ]
    }
   ],
   "source": [
    "def valAber(df):\n",
    "  \n",
    "    aberrant_counts = {}\n",
    "    \n",
    "    for col in df.columns:\n",
    "        q3 = df[col].quantile(0.75)\n",
    "        q1 = df[col].quantile(0.25)\n",
    "        IQR = q3 - q1\n",
    "        lower_limit = q1 - (IQR * 1.5)\n",
    "        upper_limit = q3 + (IQR * 1.5)\n",
    "        num_aberrant = len(df[(df[col] < lower_limit) | (df[col] > upper_limit)])\n",
    "        aberrant_counts[col] = num_aberrant\n",
    "    for col, count in aberrant_counts.items():\n",
    "        print(f\"Nombre de valeurs aberrantes dans la colonne '{col}': {count}\")\n",
    "\n",
    "\n",
    "l=['age', 'height', 'weight', 'ap_hi', 'ap_lo','smoke', 'alco', 'active', 'cardio']\n",
    "valAber(df[l])\n"
   ]
  },
  {
   "cell_type": "markdown",
   "metadata": {},
   "source": [
    "#   remplacer les vals aberantes par la mediane"
   ]
  },
  {
   "cell_type": "code",
   "execution_count": 42,
   "metadata": {},
   "outputs": [],
   "source": [
    "def replaceAberrantWithMedian(df, columns):\n",
    "    for col in columns:\n",
    "        q3 = df[col].quantile(0.75)\n",
    "        q1 = df[col].quantile(0.25)\n",
    "        IQR = q3 - q1\n",
    "        lower_limit = q1 - (IQR * 1.5)\n",
    "        upper_limit = q3 + (IQR * 1.5)\n",
    "        \n",
    "        df[col] = df[col].clip(lower_limit, upper_limit)\n"
   ]
  },
  {
   "cell_type": "code",
   "execution_count": 43,
   "metadata": {},
   "outputs": [],
   "source": [
    "replaceAberrantWithMedian(df,l)"
   ]
  },
  {
   "cell_type": "code",
   "execution_count": 44,
   "metadata": {},
   "outputs": [
    {
     "name": "stdout",
     "output_type": "stream",
     "text": [
      "Nombre de valeurs aberrantes dans la colonne 'age': 0\n",
      "Nombre de valeurs aberrantes dans la colonne 'height': 0\n",
      "Nombre de valeurs aberrantes dans la colonne 'weight': 0\n",
      "Nombre de valeurs aberrantes dans la colonne 'ap_hi': 0\n",
      "Nombre de valeurs aberrantes dans la colonne 'ap_lo': 0\n",
      "Nombre de valeurs aberrantes dans la colonne 'smoke': 0\n",
      "Nombre de valeurs aberrantes dans la colonne 'alco': 0\n",
      "Nombre de valeurs aberrantes dans la colonne 'active': 0\n",
      "Nombre de valeurs aberrantes dans la colonne 'cardio': 0\n"
     ]
    }
   ],
   "source": [
    "valAber(df[l])"
   ]
  },
  {
   "cell_type": "markdown",
   "metadata": {},
   "source": [
    "#   supprimer id"
   ]
  },
  {
   "cell_type": "code",
   "execution_count": 45,
   "metadata": {},
   "outputs": [],
   "source": [
    "df.drop(columns=['id'],inplace=True)"
   ]
  },
  {
   "cell_type": "code",
   "execution_count": 46,
   "metadata": {},
   "outputs": [
    {
     "data": {
      "text/plain": [
       "Index(['age', 'gender', 'height', 'weight', 'ap_hi', 'ap_lo', 'cholesterol',\n",
       "       'gluc', 'smoke', 'alco', 'active', 'cardio', 'new_age'],\n",
       "      dtype='object')"
      ]
     },
     "execution_count": 46,
     "metadata": {},
     "output_type": "execute_result"
    }
   ],
   "source": [
    "df.columns"
   ]
  },
  {
   "cell_type": "code",
   "execution_count": 47,
   "metadata": {},
   "outputs": [
    {
     "data": {
      "text/html": [
       "<div>\n",
       "<style scoped>\n",
       "    .dataframe tbody tr th:only-of-type {\n",
       "        vertical-align: middle;\n",
       "    }\n",
       "\n",
       "    .dataframe tbody tr th {\n",
       "        vertical-align: top;\n",
       "    }\n",
       "\n",
       "    .dataframe thead th {\n",
       "        text-align: right;\n",
       "    }\n",
       "</style>\n",
       "<table border=\"1\" class=\"dataframe\">\n",
       "  <thead>\n",
       "    <tr style=\"text-align: right;\">\n",
       "      <th></th>\n",
       "      <th>age</th>\n",
       "      <th>gender</th>\n",
       "      <th>height</th>\n",
       "      <th>weight</th>\n",
       "      <th>ap_hi</th>\n",
       "      <th>ap_lo</th>\n",
       "      <th>cholesterol</th>\n",
       "      <th>gluc</th>\n",
       "      <th>smoke</th>\n",
       "      <th>alco</th>\n",
       "      <th>active</th>\n",
       "      <th>cardio</th>\n",
       "      <th>new_age</th>\n",
       "    </tr>\n",
       "  </thead>\n",
       "  <tbody>\n",
       "    <tr>\n",
       "      <th>68681</th>\n",
       "      <td>55</td>\n",
       "      <td>female</td>\n",
       "      <td>160.0</td>\n",
       "      <td>64.0</td>\n",
       "      <td>120</td>\n",
       "      <td>90</td>\n",
       "      <td>well above normal</td>\n",
       "      <td>normal</td>\n",
       "      <td>0</td>\n",
       "      <td>0</td>\n",
       "      <td>1</td>\n",
       "      <td>1</td>\n",
       "      <td>56.0</td>\n",
       "    </tr>\n",
       "    <tr>\n",
       "      <th>19961</th>\n",
       "      <td>62</td>\n",
       "      <td>male</td>\n",
       "      <td>167.0</td>\n",
       "      <td>65.0</td>\n",
       "      <td>120</td>\n",
       "      <td>80</td>\n",
       "      <td>well above normal</td>\n",
       "      <td>well above normal</td>\n",
       "      <td>0</td>\n",
       "      <td>0</td>\n",
       "      <td>1</td>\n",
       "      <td>0</td>\n",
       "      <td>62.0</td>\n",
       "    </tr>\n",
       "    <tr>\n",
       "      <th>11040</th>\n",
       "      <td>62</td>\n",
       "      <td>female</td>\n",
       "      <td>160.0</td>\n",
       "      <td>66.0</td>\n",
       "      <td>120</td>\n",
       "      <td>90</td>\n",
       "      <td>normal</td>\n",
       "      <td>normal</td>\n",
       "      <td>0</td>\n",
       "      <td>0</td>\n",
       "      <td>1</td>\n",
       "      <td>1</td>\n",
       "      <td>62.0</td>\n",
       "    </tr>\n",
       "    <tr>\n",
       "      <th>27673</th>\n",
       "      <td>62</td>\n",
       "      <td>female</td>\n",
       "      <td>163.0</td>\n",
       "      <td>55.0</td>\n",
       "      <td>125</td>\n",
       "      <td>90</td>\n",
       "      <td>well above normal</td>\n",
       "      <td>normal</td>\n",
       "      <td>0</td>\n",
       "      <td>0</td>\n",
       "      <td>1</td>\n",
       "      <td>1</td>\n",
       "      <td>62.0</td>\n",
       "    </tr>\n",
       "    <tr>\n",
       "      <th>22876</th>\n",
       "      <td>59</td>\n",
       "      <td>female</td>\n",
       "      <td>158.0</td>\n",
       "      <td>85.0</td>\n",
       "      <td>150</td>\n",
       "      <td>80</td>\n",
       "      <td>well above normal</td>\n",
       "      <td>normal</td>\n",
       "      <td>0</td>\n",
       "      <td>0</td>\n",
       "      <td>1</td>\n",
       "      <td>1</td>\n",
       "      <td>59.0</td>\n",
       "    </tr>\n",
       "  </tbody>\n",
       "</table>\n",
       "</div>"
      ],
      "text/plain": [
       "       age  gender  height  weight  ap_hi  ap_lo        cholesterol  \\\n",
       "68681   55  female   160.0    64.0    120     90  well above normal   \n",
       "19961   62    male   167.0    65.0    120     80  well above normal   \n",
       "11040   62  female   160.0    66.0    120     90             normal   \n",
       "27673   62  female   163.0    55.0    125     90  well above normal   \n",
       "22876   59  female   158.0    85.0    150     80  well above normal   \n",
       "\n",
       "                    gluc  smoke  alco  active  cardio  new_age  \n",
       "68681             normal      0     0       1       1     56.0  \n",
       "19961  well above normal      0     0       1       0     62.0  \n",
       "11040             normal      0     0       1       1     62.0  \n",
       "27673             normal      0     0       1       1     62.0  \n",
       "22876             normal      0     0       1       1     59.0  "
      ]
     },
     "execution_count": 47,
     "metadata": {},
     "output_type": "execute_result"
    }
   ],
   "source": [
    "df.head()"
   ]
  },
  {
   "cell_type": "markdown",
   "metadata": {},
   "source": [
    "#   traitestsplit"
   ]
  },
  {
   "cell_type": "code",
   "execution_count": 48,
   "metadata": {},
   "outputs": [],
   "source": [
    "sampled_dff = pd.get_dummies(df)\n",
    "\n",
    "X = sampled_dff.drop('cardio', axis=1)\n",
    "y = sampled_dff['cardio']\n",
    "\n",
    "X_train, X_test, y_train, y_test = train_test_split(X, y, test_size=0.20, random_state=42)"
   ]
  },
  {
   "cell_type": "markdown",
   "metadata": {},
   "source": [
    "#   Standarisation"
   ]
  },
  {
   "cell_type": "code",
   "execution_count": 49,
   "metadata": {},
   "outputs": [],
   "source": [
    "from sklearn.preprocessing import StandardScaler\n",
    "\n",
    "\n",
    "sc = StandardScaler()\n",
    "\n",
    "\n",
    "X_train_sc = sc.fit_transform(X_train)\n",
    "X_test_sc = sc.transform(X_test)"
   ]
  },
  {
   "cell_type": "markdown",
   "metadata": {},
   "source": [
    "#   Smote"
   ]
  },
  {
   "cell_type": "code",
   "execution_count": 50,
   "metadata": {},
   "outputs": [],
   "source": [
    "from imblearn.over_sampling import SMOTE\n",
    "\n",
    "\n",
    "smote = SMOTE(sampling_strategy='auto', random_state=42)\n",
    "X_train_resampled, y_train_resampled = smote.fit_resample(X_train, y_train)"
   ]
  },
  {
   "cell_type": "code",
   "execution_count": 51,
   "metadata": {},
   "outputs": [
    {
     "data": {
      "text/plain": [
       "<Experiment: artifact_location='mlflow-artifacts:/ddcf924a78ec446bb7ab6fe260bafc4a', creation_time=1697701170982, experiment_id='0', last_update_time=1697701170982, lifecycle_stage='active', name='Cardio-experiment', tags={}>"
      ]
     },
     "execution_count": 51,
     "metadata": {},
     "output_type": "execute_result"
    }
   ],
   "source": [
    "version = \"v1.0\"\n",
    "data_url = \"data/cardio_datatraining.csv\"\n",
    "import os\n",
    "os.environ['MLFLOW_TRACKING_USERNAME'] = \"hatemslimani2035\"\n",
    "os.environ[\"MLFLOW_TRACKING_PASSWORD\"] = \"f497730cfadcd6d476b9089d797bda3a8abcaa02\"\n",
    "mlflow.set_tracking_uri('https://dagshub.com/hatemslimani2035/ML_OPS.mlflow')\n",
    "mlflow.set_experiment(\"Cardio-experiment\")"
   ]
  },
  {
   "cell_type": "markdown",
   "metadata": {},
   "source": [
    "#   xgboost"
   ]
  },
  {
   "cell_type": "code",
   "execution_count": 52,
   "metadata": {},
   "outputs": [
    {
     "name": "stderr",
     "output_type": "stream",
     "text": [
      "c:\\Users\\hatem\\anaconda3\\envs\\tenserflow\\lib\\site-packages\\_distutils_hack\\__init__.py:33: UserWarning:\n",
      "\n",
      "Setuptools is replacing distutils.\n",
      "\n"
     ]
    },
    {
     "name": "stdout",
     "output_type": "stream",
     "text": [
      "Accuracy: 0.72\n",
      "Confusion Matrix:\n",
      "[[3810 1165]\n",
      " [1533 3292]]\n",
      "Classification Report:\n",
      "              precision    recall  f1-score   support\n",
      "\n",
      "           0       0.71      0.77      0.74      4975\n",
      "           1       0.74      0.68      0.71      4825\n",
      "\n",
      "    accuracy                           0.72      9800\n",
      "   macro avg       0.73      0.72      0.72      9800\n",
      "weighted avg       0.73      0.72      0.72      9800\n",
      "\n"
     ]
    }
   ],
   "source": [
    "import xgboost as xgb\n",
    "from xgboost import XGBClassifier\n",
    "from sklearn.metrics import precision_recall_fscore_support as score\n",
    "with mlflow.start_run(run_name='XGBClassifier'):\n",
    "    mlflow.log_param(\"data_url\", data_url)\n",
    "    mlflow.log_param(\"data_version\", version)\n",
    "    mlflow.log_param(\"input_rows\", df.shape[0])\n",
    "    mlflow.log_param(\"input_cols\", df.shape[1])\n",
    "    xgb_classifier = XGBClassifier()\n",
    "    xgb_classifier.fit(X_train, y_train)\n",
    "\n",
    "    y_pred = xgb_classifier.predict(X_test)\n",
    "    mlflow.set_tag(key=\"model\", value=\"XGBClassifier\")\n",
    "    params = xgb_classifier.get_params()\n",
    "    mlflow.log_params(params)\n",
    "    accuracy = accuracy_score(y_test, y_pred)\n",
    "    precision, recall, fscore, support = score(y_test, y_pred, average='macro')\n",
    "    mlflow.log_metric(\"Precision_test\", precision)\n",
    "    mlflow.log_metric(\"Recall_test\", recall)\n",
    "    mlflow.log_metric(\"F1_score_test\", fscore)\n",
    "    mlflow.sklearn.log_model(xgb_classifier, artifact_path=\"ML_models\")\n",
    "    print(f\"Accuracy: {accuracy:.2f}\")\n",
    "\n",
    "    confusion_mat = confusion_matrix(y_test, y_pred)\n",
    "    print(\"Confusion Matrix:\")\n",
    "    print(confusion_mat)\n",
    "\n",
    "    class_report = classification_report(y_test, y_pred)\n",
    "    print(\"Classification Report:\")\n",
    "    print(class_report)"
   ]
  },
  {
   "cell_type": "markdown",
   "metadata": {},
   "source": [
    "#   logestic regressor "
   ]
  },
  {
   "cell_type": "code",
   "execution_count": 53,
   "metadata": {},
   "outputs": [
    {
     "name": "stderr",
     "output_type": "stream",
     "text": [
      "c:\\Users\\hatem\\anaconda3\\envs\\tenserflow\\lib\\site-packages\\sklearn\\linear_model\\_logistic.py:458: ConvergenceWarning:\n",
      "\n",
      "lbfgs failed to converge (status=1):\n",
      "STOP: TOTAL NO. of ITERATIONS REACHED LIMIT.\n",
      "\n",
      "Increase the number of iterations (max_iter) or scale the data as shown in:\n",
      "    https://scikit-learn.org/stable/modules/preprocessing.html\n",
      "Please also refer to the documentation for alternative solver options:\n",
      "    https://scikit-learn.org/stable/modules/linear_model.html#logistic-regression\n",
      "\n"
     ]
    },
    {
     "name": "stdout",
     "output_type": "stream",
     "text": [
      "Accuracy: 0.72\n",
      "Confusion Matrix:\n",
      "[[3841 1134]\n",
      " [1578 3247]]\n",
      "Classification Report:\n",
      "              precision    recall  f1-score   support\n",
      "\n",
      "           0       0.71      0.77      0.74      4975\n",
      "           1       0.74      0.67      0.71      4825\n",
      "\n",
      "    accuracy                           0.72      9800\n",
      "   macro avg       0.72      0.72      0.72      9800\n",
      "weighted avg       0.72      0.72      0.72      9800\n",
      "\n"
     ]
    }
   ],
   "source": [
    "from sklearn.linear_model import LogisticRegression\n",
    "with mlflow.start_run(run_name='LogisticRegression'):\n",
    "    mlflow.log_param(\"data_url\", data_url)\n",
    "    mlflow.log_param(\"data_version\", version)\n",
    "    mlflow.log_param(\"input_rows\", df.shape[0])\n",
    "    mlflow.log_param(\"input_cols\", df.shape[1])\n",
    "    model = LogisticRegression()\n",
    "\n",
    "\n",
    "    model.fit(X_train, y_train)\n",
    "    y_pred = model.predict(X_test)\n",
    "    mlflow.set_tag(key=\"model\", value=\"LogisticRegression\")\n",
    "    params = model.get_params()\n",
    "    mlflow.log_params(params)\n",
    "    accuracy = accuracy_score(y_test, y_pred)\n",
    "    precision, recall, fscore, support = score(y_test, y_pred, average='macro')\n",
    "    mlflow.log_metric(\"Precision_test\", precision)\n",
    "    mlflow.log_metric(\"Recall_test\", recall)\n",
    "    mlflow.log_metric(\"F1_score_test\", fscore)\n",
    "    mlflow.sklearn.log_model(model, artifact_path=\"ML_models\")\n",
    "    print(f\"Accuracy: {accuracy:.2f}\")\n",
    "\n",
    "    confusion_mat = confusion_matrix(y_test, y_pred)\n",
    "    print(\"Confusion Matrix:\")\n",
    "    print(confusion_mat)\n",
    "\n",
    "    class_report = classification_report(y_test, y_pred)\n",
    "    print(\"Classification Report:\")\n",
    "    print(class_report)"
   ]
  },
  {
   "cell_type": "markdown",
   "metadata": {},
   "source": [
    "#   logestic regression + ridge"
   ]
  },
  {
   "cell_type": "code",
   "execution_count": 54,
   "metadata": {},
   "outputs": [
    {
     "name": "stderr",
     "output_type": "stream",
     "text": [
      "c:\\Users\\hatem\\anaconda3\\envs\\tenserflow\\lib\\site-packages\\sklearn\\linear_model\\_logistic.py:458: ConvergenceWarning:\n",
      "\n",
      "lbfgs failed to converge (status=1):\n",
      "STOP: TOTAL NO. of ITERATIONS REACHED LIMIT.\n",
      "\n",
      "Increase the number of iterations (max_iter) or scale the data as shown in:\n",
      "    https://scikit-learn.org/stable/modules/preprocessing.html\n",
      "Please also refer to the documentation for alternative solver options:\n",
      "    https://scikit-learn.org/stable/modules/linear_model.html#logistic-regression\n",
      "\n"
     ]
    },
    {
     "name": "stdout",
     "output_type": "stream",
     "text": [
      "Accuracy: 0.72\n",
      "Confusion Matrix:\n",
      "[[3797 1178]\n",
      " [1566 3259]]\n",
      "Classification Report:\n",
      "              precision    recall  f1-score   support\n",
      "\n",
      "           0       0.71      0.76      0.73      4975\n",
      "           1       0.73      0.68      0.70      4825\n",
      "\n",
      "    accuracy                           0.72      9800\n",
      "   macro avg       0.72      0.72      0.72      9800\n",
      "weighted avg       0.72      0.72      0.72      9800\n",
      "\n"
     ]
    }
   ],
   "source": [
    "with mlflow.start_run(run_name='LogisticRegressionRidge'):\n",
    "    mlflow.log_param(\"data_url\", data_url)\n",
    "    mlflow.log_param(\"data_version\", version)\n",
    "    mlflow.log_param(\"input_rows\", df.shape[0])\n",
    "    mlflow.log_param(\"input_cols\", df.shape[1])\n",
    "    model_ridge = LogisticRegression(penalty='l2', C=1.5)  \n",
    "    model_ridge.fit(X_train, y_train)\n",
    "    y_pred_ridge = model_ridge.predict(X_test)\n",
    "    mlflow.set_tag(key=\"model\", value=\"LogisticRegressionRidge\")\n",
    "    params = model_ridge.get_params()\n",
    "    mlflow.log_params(params)\n",
    "    accuracy = accuracy_score(y_test, y_pred)\n",
    "    precision, recall, fscore, support = score(y_test, y_pred, average='macro')\n",
    "    mlflow.log_metric(\"Precision_test\", precision)\n",
    "    mlflow.log_metric(\"Recall_test\", recall)\n",
    "    mlflow.log_metric(\"F1_score_test\", fscore)\n",
    "    mlflow.sklearn.log_model(model_ridge, artifact_path=\"ML_models\")\n",
    "    print(f\"Accuracy: {accuracy:.2f}\")\n",
    "\n",
    "    confusion_mat = confusion_matrix(y_test, y_pred_ridge)\n",
    "    print(\"Confusion Matrix:\")\n",
    "    print(confusion_mat)\n",
    "\n",
    "    class_report = classification_report(y_test, y_pred_ridge)\n",
    "    print(\"Classification Report:\")\n",
    "    print(class_report)"
   ]
  },
  {
   "cell_type": "markdown",
   "metadata": {},
   "source": [
    "#   LogisticRegression +lasso"
   ]
  },
  {
   "cell_type": "code",
   "execution_count": 57,
   "metadata": {},
   "outputs": [
    {
     "name": "stderr",
     "output_type": "stream",
     "text": [
      "c:\\Users\\hatem\\anaconda3\\envs\\tenserflow\\lib\\site-packages\\sklearn\\svm\\_base.py:1244: ConvergenceWarning:\n",
      "\n",
      "Liblinear failed to converge, increase the number of iterations.\n",
      "\n"
     ]
    },
    {
     "name": "stdout",
     "output_type": "stream",
     "text": [
      "Accuracy: 0.72\n",
      "Confusion Matrix:\n",
      "[[3903 1072]\n",
      " [1577 3248]]\n",
      "Classification Report:\n",
      "              precision    recall  f1-score   support\n",
      "\n",
      "           0       0.71      0.78      0.75      4975\n",
      "           1       0.75      0.67      0.71      4825\n",
      "\n",
      "    accuracy                           0.73      9800\n",
      "   macro avg       0.73      0.73      0.73      9800\n",
      "weighted avg       0.73      0.73      0.73      9800\n",
      "\n"
     ]
    }
   ],
   "source": [
    "with mlflow.start_run(run_name='LogisticRegressionLasso'):\n",
    "    mlflow.log_param(\"data_url\", data_url)\n",
    "    mlflow.log_param(\"data_version\", version)\n",
    "    mlflow.log_param(\"input_rows\", df.shape[0])\n",
    "    mlflow.log_param(\"input_cols\", df.shape[1])\n",
    "    model_lasso = LogisticRegression(penalty='l1', C=1.5, solver='liblinear') \n",
    "    model_lasso.fit(X_train, y_train)\n",
    "    y_pred_lasso = model_lasso.predict(X_test)\n",
    "    mlflow.set_tag(key=\"model\", value=\"LogisticRegressionLasso\")\n",
    "    params = model_lasso.get_params()\n",
    "    mlflow.log_params(params)\n",
    "    accuracy = accuracy_score(y_test, y_pred)\n",
    "    precision, recall, fscore, support = score(y_test, y_pred, average='macro')\n",
    "    mlflow.log_metric(\"Precision_test\", precision)\n",
    "    mlflow.log_metric(\"Recall_test\", recall)\n",
    "    mlflow.log_metric(\"F1_score_test\", fscore)\n",
    "    mlflow.sklearn.log_model(model_lasso, artifact_path=\"ML_models\")\n",
    "    print(f\"Accuracy: {accuracy:.2f}\")\n",
    "\n",
    "    confusion_mat = confusion_matrix(y_test, y_pred_lasso)\n",
    "    print(\"Confusion Matrix:\")\n",
    "    print(confusion_mat)\n",
    "\n",
    "    class_report = classification_report(y_test, y_pred_lasso)\n",
    "    print(\"Classification Report:\")\n",
    "    print(class_report)"
   ]
  },
  {
   "cell_type": "code",
   "execution_count": 58,
   "metadata": {},
   "outputs": [
    {
     "data": {
      "text/plain": [
       "0.4987755102040816"
      ]
     },
     "execution_count": 58,
     "metadata": {},
     "output_type": "execute_result"
    }
   ],
   "source": [
    "sampled_dff['cardio'].mean()"
   ]
  },
  {
   "cell_type": "markdown",
   "metadata": {},
   "source": [
    "#   Lr+ smote"
   ]
  },
  {
   "cell_type": "code",
   "execution_count": 59,
   "metadata": {},
   "outputs": [
    {
     "name": "stdout",
     "output_type": "stream",
     "text": [
      "Accuracy: 0.72\n",
      "Confusion Matrix:\n",
      "[[3904 1071]\n",
      " [1580 3245]]\n",
      "Classification Report:\n",
      "              precision    recall  f1-score   support\n",
      "\n",
      "           0       0.71      0.78      0.75      4975\n",
      "           1       0.75      0.67      0.71      4825\n",
      "\n",
      "    accuracy                           0.73      9800\n",
      "   macro avg       0.73      0.73      0.73      9800\n",
      "weighted avg       0.73      0.73      0.73      9800\n",
      "\n"
     ]
    }
   ],
   "source": [
    "with mlflow.start_run(run_name='LogisticRegressionLassoSmote'):\n",
    "    mlflow.log_param(\"data_url\", data_url)\n",
    "    mlflow.log_param(\"data_version\", version)\n",
    "    mlflow.log_param(\"input_rows\", df.shape[0])\n",
    "    mlflow.log_param(\"input_cols\", df.shape[1])\n",
    "    model_lasso = LogisticRegression(penalty='l1', C=1.5, solver='liblinear')\n",
    "    model_lasso.fit(X_train_resampled, y_train_resampled )\n",
    "    y_pred_lasso = model_lasso.predict(X_test)\n",
    "    mlflow.set_tag(key=\"model\", value=\"LogisticRegressionLassoSmote\")\n",
    "    params = model_lasso.get_params()\n",
    "    mlflow.log_params(params)\n",
    "    accuracy = accuracy_score(y_test, y_pred)\n",
    "    precision, recall, fscore, support = score(y_test, y_pred, average='macro')\n",
    "    mlflow.log_metric(\"Precision_test\", precision)\n",
    "    mlflow.log_metric(\"Recall_test\", recall)\n",
    "    mlflow.log_metric(\"F1_score_test\", fscore)\n",
    "    mlflow.sklearn.log_model(model_lasso, artifact_path=\"ML_models\")\n",
    "    print(f\"Accuracy: {accuracy:.2f}\")\n",
    "\n",
    "    confusion_mat = confusion_matrix(y_test, y_pred_lasso)\n",
    "    print(\"Confusion Matrix:\")\n",
    "    print(confusion_mat)\n",
    "\n",
    "    class_report = classification_report(y_test, y_pred_lasso)\n",
    "    print(\"Classification Report:\")\n",
    "    print(class_report)"
   ]
  },
  {
   "cell_type": "code",
   "execution_count": null,
   "metadata": {},
   "outputs": [
    {
     "name": "stdout",
     "output_type": "stream",
     "text": [
      "Accuracy: 0.73\n",
      "Confusion Matrix:\n",
      "[[3900 1075]\n",
      " [1577 3248]]\n",
      "Classification Report:\n",
      "              precision    recall  f1-score   support\n",
      "\n",
      "           0       0.71      0.78      0.75      4975\n",
      "           1       0.75      0.67      0.71      4825\n",
      "\n",
      "    accuracy                           0.73      9800\n",
      "   macro avg       0.73      0.73      0.73      9800\n",
      "weighted avg       0.73      0.73      0.73      9800\n",
      "\n"
     ]
    }
   ],
   "source": [
    "with mlflow.start_run(run_name='LogisticRegressionRidgeSmote'):\n",
    "    mlflow.log_param(\"data_url\", data_url)\n",
    "    mlflow.log_param(\"data_version\", version)\n",
    "    mlflow.log_param(\"input_rows\", df.shape[0])\n",
    "    mlflow.log_param(\"input_cols\", df.shape[1])\n",
    "    model_ridge = LogisticRegression(penalty='l2', C=1.5)  # Vous pouvez ajuster la valeur de C pour le niveau de régularisation\n",
    "\n",
    "    # Entraîner le modèle Ridge sur les données d'entraînement\n",
    "    model_ridge.fit(X_train_sc , y_train)\n",
    "\n",
    "    # Faire des prédictions sur les données de test\n",
    "    y_pred_ridge = model_ridge.predict(X_test_sc )\n",
    "    mlflow.set_tag(key=\"model\", value=\"LogisticRegressionRidgeSmote\")\n",
    "    params = model_ridge.get_params()\n",
    "    mlflow.log_params(params)\n",
    "    accuracy = accuracy_score(y_test, y_pred)\n",
    "    precision, recall, fscore, support = score(y_test, y_pred, average='macro')\n",
    "    mlflow.log_metric(\"Precision_test\", precision)\n",
    "    mlflow.log_metric(\"Recall_test\", recall)\n",
    "    mlflow.log_metric(\"F1_score_test\", fscore)\n",
    "    mlflow.sklearn.log_model(model_ridge, artifact_path=\"ML_models\")\n",
    "    print(f\"Accuracy: {accuracy:.2f}\")\n",
    "\n",
    "    confusion_mat = confusion_matrix(y_test, y_pred_ridge)\n",
    "    print(\"Confusion Matrix:\")\n",
    "    print(confusion_mat)\n",
    "\n",
    "    class_report = classification_report(y_test, y_pred_ridge)\n",
    "    print(\"Classification Report:\")\n",
    "    print(class_report)"
   ]
  },
  {
   "cell_type": "markdown",
   "metadata": {},
   "source": [
    "#   random forest"
   ]
  },
  {
   "cell_type": "code",
   "execution_count": 60,
   "metadata": {},
   "outputs": [
    {
     "name": "stdout",
     "output_type": "stream",
     "text": [
      "Accuracy: 0.70\n",
      "Confusion Matrix:\n",
      "[[3524 1451]\n",
      " [1481 3344]]\n",
      "Classification Report:\n",
      "              precision    recall  f1-score   support\n",
      "\n",
      "           0       0.70      0.71      0.71      4975\n",
      "           1       0.70      0.69      0.70      4825\n",
      "\n",
      "    accuracy                           0.70      9800\n",
      "   macro avg       0.70      0.70      0.70      9800\n",
      "weighted avg       0.70      0.70      0.70      9800\n",
      "\n"
     ]
    }
   ],
   "source": [
    "with mlflow.start_run(run_name='RandomForestClassifier'):\n",
    "    mlflow.log_param(\"data_url\", data_url)\n",
    "    mlflow.log_param(\"data_version\", version)\n",
    "    mlflow.log_param(\"input_rows\", df.shape[0])\n",
    "    mlflow.log_param(\"input_cols\", df.shape[1])\n",
    "    rf_classifier = RandomForestClassifier()\n",
    "    rf_classifier.fit(X_train, y_train)\n",
    "\n",
    "    y_pred = rf_classifier.predict(X_test)\n",
    "\n",
    "    mlflow.set_tag(key=\"model\", value=\"RandomForestClassifier\")\n",
    "    params = rf_classifier.get_params()\n",
    "    mlflow.log_params(params)\n",
    "    accuracy = accuracy_score(y_test, y_pred)\n",
    "    precision, recall, fscore, support = score(y_test, y_pred, average='macro')\n",
    "    mlflow.log_metric(\"Precision_test\", precision)\n",
    "    mlflow.log_metric(\"Recall_test\", recall)\n",
    "    mlflow.log_metric(\"F1_score_test\", fscore)\n",
    "    mlflow.sklearn.log_model(rf_classifier, artifact_path=\"ML_models\")\n",
    "    print(f\"Accuracy: {accuracy:.2f}\")\n",
    "\n",
    "    confusion_mat = confusion_matrix(y_test, y_pred)\n",
    "    print(\"Confusion Matrix:\")\n",
    "    print(confusion_mat)\n",
    "\n",
    "    class_report = classification_report(y_test, y_pred)\n",
    "    print(\"Classification Report:\")\n",
    "    print(class_report)"
   ]
  },
  {
   "cell_type": "code",
   "execution_count": null,
   "metadata": {},
   "outputs": [],
   "source": []
  }
 ],
 "metadata": {
  "kernelspec": {
   "display_name": "Python 3",
   "language": "python",
   "name": "python3"
  },
  "language_info": {
   "codemirror_mode": {
    "name": "ipython",
    "version": 3
   },
   "file_extension": ".py",
   "mimetype": "text/x-python",
   "name": "python",
   "nbconvert_exporter": "python",
   "pygments_lexer": "ipython3",
   "version": "3.9.16"
  }
 },
 "nbformat": 4,
 "nbformat_minor": 2
}
