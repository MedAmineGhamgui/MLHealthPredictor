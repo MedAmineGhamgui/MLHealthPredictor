{
 "cells": [
  {
   "cell_type": "code",
   "execution_count": null,
   "metadata": {},
   "outputs": [],
   "source": [
    "import csv \n",
    "import pandas as pd \n",
    "import numpy as np\n",
    "import matplotlib.pyplot as plt\n",
    "import seaborn as sns\n",
    "%matplotlib inline\n",
    "from sklearn.preprocessing import LabelEncoder\n",
    "from sklearn.metrics import accuracy_score, classification_report, confusion_matrix\n",
    "from sklearn.ensemble import ExtraTreesClassifier\n",
    "from sklearn.ensemble import RandomForestClassifier\n",
    "from sklearn.feature_selection import SelectKBest\n",
    "from sklearn.feature_selection import chi2\n",
    "from sklearn.model_selection import train_test_split\n",
    "from sklearn.cluster import KMeans\n",
    "from sklearn.preprocessing import StandardScaler\n",
    "from sklearn.metrics import silhouette_score\n",
    "import seaborn as sns\n",
    "import matplotlib.pyplot as plt\n",
    "from sklearn.feature_selection import SelectKBest\n",
    "from sklearn.feature_selection import chi2\n",
    "from sklearn.model_selection import train_test_split"
   ]
  },
  {
   "cell_type": "code",
   "execution_count": null,
   "metadata": {},
   "outputs": [],
   "source": [
    "df=pd.read_csv(\"data/cardio_datatraining.csv\",sep=\";\")"
   ]
  },
  {
   "cell_type": "markdown",
   "metadata": {},
   "source": [
    "#   traitement de gender  "
   ]
  },
  {
   "cell_type": "code",
   "execution_count": 9,
   "metadata": {},
   "outputs": [
    {
     "data": {
      "text/plain": [
       "array([1, 2], dtype=int64)"
      ]
     },
     "execution_count": 9,
     "metadata": {},
     "output_type": "execute_result"
    }
   ],
   "source": [
    "df[\"gender\"].unique()"
   ]
  },
  {
   "cell_type": "code",
   "execution_count": 10,
   "metadata": {},
   "outputs": [],
   "source": [
    "df['gender'] = df['gender'].replace({2: \"male\", 1: \"female\"})"
   ]
  },
  {
   "cell_type": "code",
   "execution_count": 11,
   "metadata": {},
   "outputs": [
    {
     "data": {
      "text/html": [
       "<div>\n",
       "<style scoped>\n",
       "    .dataframe tbody tr th:only-of-type {\n",
       "        vertical-align: middle;\n",
       "    }\n",
       "\n",
       "    .dataframe tbody tr th {\n",
       "        vertical-align: top;\n",
       "    }\n",
       "\n",
       "    .dataframe thead th {\n",
       "        text-align: right;\n",
       "    }\n",
       "</style>\n",
       "<table border=\"1\" class=\"dataframe\">\n",
       "  <thead>\n",
       "    <tr style=\"text-align: right;\">\n",
       "      <th></th>\n",
       "      <th>id</th>\n",
       "      <th>age</th>\n",
       "      <th>gender</th>\n",
       "      <th>height</th>\n",
       "      <th>weight</th>\n",
       "      <th>ap_hi</th>\n",
       "      <th>ap_lo</th>\n",
       "      <th>cholesterol</th>\n",
       "      <th>gluc</th>\n",
       "      <th>smoke</th>\n",
       "      <th>alco</th>\n",
       "      <th>active</th>\n",
       "      <th>cardio</th>\n",
       "    </tr>\n",
       "  </thead>\n",
       "  <tbody>\n",
       "    <tr>\n",
       "      <th>68681</th>\n",
       "      <td>98125</td>\n",
       "      <td>20417</td>\n",
       "      <td>female</td>\n",
       "      <td>160</td>\n",
       "      <td>64.0</td>\n",
       "      <td>120</td>\n",
       "      <td>90</td>\n",
       "      <td>3</td>\n",
       "      <td>1</td>\n",
       "      <td>0</td>\n",
       "      <td>0</td>\n",
       "      <td>1</td>\n",
       "      <td>1</td>\n",
       "    </tr>\n",
       "    <tr>\n",
       "      <th>19961</th>\n",
       "      <td>28510</td>\n",
       "      <td>22690</td>\n",
       "      <td>male</td>\n",
       "      <td>167</td>\n",
       "      <td>65.0</td>\n",
       "      <td>120</td>\n",
       "      <td>80</td>\n",
       "      <td>3</td>\n",
       "      <td>3</td>\n",
       "      <td>0</td>\n",
       "      <td>0</td>\n",
       "      <td>0</td>\n",
       "      <td>0</td>\n",
       "    </tr>\n",
       "    <tr>\n",
       "      <th>11040</th>\n",
       "      <td>15795</td>\n",
       "      <td>22784</td>\n",
       "      <td>female</td>\n",
       "      <td>160</td>\n",
       "      <td>66.0</td>\n",
       "      <td>120</td>\n",
       "      <td>90</td>\n",
       "      <td>1</td>\n",
       "      <td>1</td>\n",
       "      <td>0</td>\n",
       "      <td>0</td>\n",
       "      <td>1</td>\n",
       "      <td>1</td>\n",
       "    </tr>\n",
       "    <tr>\n",
       "      <th>27673</th>\n",
       "      <td>39560</td>\n",
       "      <td>22648</td>\n",
       "      <td>female</td>\n",
       "      <td>163</td>\n",
       "      <td>55.0</td>\n",
       "      <td>125</td>\n",
       "      <td>90</td>\n",
       "      <td>3</td>\n",
       "      <td>1</td>\n",
       "      <td>0</td>\n",
       "      <td>0</td>\n",
       "      <td>1</td>\n",
       "      <td>1</td>\n",
       "    </tr>\n",
       "    <tr>\n",
       "      <th>22876</th>\n",
       "      <td>32677</td>\n",
       "      <td>21712</td>\n",
       "      <td>female</td>\n",
       "      <td>158</td>\n",
       "      <td>85.0</td>\n",
       "      <td>150</td>\n",
       "      <td>80</td>\n",
       "      <td>3</td>\n",
       "      <td>1</td>\n",
       "      <td>0</td>\n",
       "      <td>0</td>\n",
       "      <td>1</td>\n",
       "      <td>1</td>\n",
       "    </tr>\n",
       "  </tbody>\n",
       "</table>\n",
       "</div>"
      ],
      "text/plain": [
       "          id    age  gender  height  weight  ap_hi  ap_lo  cholesterol  gluc  \\\n",
       "68681  98125  20417  female     160    64.0    120     90            3     1   \n",
       "19961  28510  22690    male     167    65.0    120     80            3     3   \n",
       "11040  15795  22784  female     160    66.0    120     90            1     1   \n",
       "27673  39560  22648  female     163    55.0    125     90            3     1   \n",
       "22876  32677  21712  female     158    85.0    150     80            3     1   \n",
       "\n",
       "       smoke  alco  active  cardio  \n",
       "68681      0     0       1       1  \n",
       "19961      0     0       0       0  \n",
       "11040      0     0       1       1  \n",
       "27673      0     0       1       1  \n",
       "22876      0     0       1       1  "
      ]
     },
     "execution_count": 11,
     "metadata": {},
     "output_type": "execute_result"
    }
   ],
   "source": [
    "df.head()"
   ]
  },
  {
   "cell_type": "code",
   "execution_count": 12,
   "metadata": {},
   "outputs": [
    {
     "data": {
      "text/html": [
       "<div>\n",
       "<style scoped>\n",
       "    .dataframe tbody tr th:only-of-type {\n",
       "        vertical-align: middle;\n",
       "    }\n",
       "\n",
       "    .dataframe tbody tr th {\n",
       "        vertical-align: top;\n",
       "    }\n",
       "\n",
       "    .dataframe thead th {\n",
       "        text-align: right;\n",
       "    }\n",
       "</style>\n",
       "<table border=\"1\" class=\"dataframe\">\n",
       "  <thead>\n",
       "    <tr style=\"text-align: right;\">\n",
       "      <th></th>\n",
       "      <th>id</th>\n",
       "      <th>age</th>\n",
       "      <th>height</th>\n",
       "      <th>weight</th>\n",
       "      <th>ap_hi</th>\n",
       "      <th>ap_lo</th>\n",
       "      <th>cholesterol</th>\n",
       "      <th>gluc</th>\n",
       "      <th>smoke</th>\n",
       "      <th>alco</th>\n",
       "      <th>active</th>\n",
       "      <th>cardio</th>\n",
       "    </tr>\n",
       "    <tr>\n",
       "      <th>gender</th>\n",
       "      <th></th>\n",
       "      <th></th>\n",
       "      <th></th>\n",
       "      <th></th>\n",
       "      <th></th>\n",
       "      <th></th>\n",
       "      <th></th>\n",
       "      <th></th>\n",
       "      <th></th>\n",
       "      <th></th>\n",
       "      <th></th>\n",
       "      <th></th>\n",
       "    </tr>\n",
       "  </thead>\n",
       "  <tbody>\n",
       "    <tr>\n",
       "      <th>female</th>\n",
       "      <td>49807.167587</td>\n",
       "      <td>19502.030970</td>\n",
       "      <td>161.351145</td>\n",
       "      <td>72.546524</td>\n",
       "      <td>127.913869</td>\n",
       "      <td>94.458362</td>\n",
       "      <td>1.387198</td>\n",
       "      <td>1.234233</td>\n",
       "      <td>0.018293</td>\n",
       "      <td>0.026294</td>\n",
       "      <td>0.801820</td>\n",
       "      <td>0.496392</td>\n",
       "    </tr>\n",
       "    <tr>\n",
       "      <th>male</th>\n",
       "      <td>50137.926095</td>\n",
       "      <td>19376.826795</td>\n",
       "      <td>169.933158</td>\n",
       "      <td>77.223164</td>\n",
       "      <td>130.717221</td>\n",
       "      <td>102.021424</td>\n",
       "      <td>1.334092</td>\n",
       "      <td>1.208348</td>\n",
       "      <td>0.221483</td>\n",
       "      <td>0.109165</td>\n",
       "      <td>0.806363</td>\n",
       "      <td>0.503211</td>\n",
       "    </tr>\n",
       "  </tbody>\n",
       "</table>\n",
       "</div>"
      ],
      "text/plain": [
       "                  id           age      height     weight       ap_hi  \\\n",
       "gender                                                                  \n",
       "female  49807.167587  19502.030970  161.351145  72.546524  127.913869   \n",
       "male    50137.926095  19376.826795  169.933158  77.223164  130.717221   \n",
       "\n",
       "             ap_lo  cholesterol      gluc     smoke      alco    active  \\\n",
       "gender                                                                    \n",
       "female   94.458362     1.387198  1.234233  0.018293  0.026294  0.801820   \n",
       "male    102.021424     1.334092  1.208348  0.221483  0.109165  0.806363   \n",
       "\n",
       "          cardio  \n",
       "gender            \n",
       "female  0.496392  \n",
       "male    0.503211  "
      ]
     },
     "execution_count": 12,
     "metadata": {},
     "output_type": "execute_result"
    }
   ],
   "source": [
    "df.groupby(\"gender\").mean()"
   ]
  },
  {
   "cell_type": "code",
   "execution_count": null,
   "metadata": {},
   "outputs": [],
   "source": []
  },
  {
   "cell_type": "markdown",
   "metadata": {},
   "source": [
    "#   traitement de Cholesterol "
   ]
  },
  {
   "cell_type": "code",
   "execution_count": 13,
   "metadata": {},
   "outputs": [
    {
     "data": {
      "text/plain": [
       "array([3, 1, 2], dtype=int64)"
      ]
     },
     "execution_count": 13,
     "metadata": {},
     "output_type": "execute_result"
    }
   ],
   "source": [
    "df[\"cholesterol\"].unique()"
   ]
  },
  {
   "cell_type": "code",
   "execution_count": 14,
   "metadata": {},
   "outputs": [],
   "source": [
    "df['cholesterol'] = df['cholesterol'].replace({1: \"normal\", 2: \"above normal\",3:\"well above normal\"})"
   ]
  },
  {
   "cell_type": "code",
   "execution_count": 15,
   "metadata": {},
   "outputs": [
    {
     "data": {
      "text/plain": [
       "array(['well above normal', 'normal', 'above normal'], dtype=object)"
      ]
     },
     "execution_count": 15,
     "metadata": {},
     "output_type": "execute_result"
    }
   ],
   "source": [
    "df['cholesterol'].unique()"
   ]
  },
  {
   "cell_type": "markdown",
   "metadata": {},
   "source": [
    "#   traitement de glucose"
   ]
  },
  {
   "cell_type": "code",
   "execution_count": 16,
   "metadata": {},
   "outputs": [],
   "source": [
    "df['gluc'] = df['gluc'].replace({1: \"normal\", 2: \"above normal\",3:\"well above normal\"})"
   ]
  },
  {
   "cell_type": "markdown",
   "metadata": {},
   "source": [
    "#   modifier l'unitè de age de jours vers ans"
   ]
  },
  {
   "cell_type": "code",
   "execution_count": 17,
   "metadata": {},
   "outputs": [],
   "source": [
    "df[\"age\"] = df[\"age\"].map(lambda x: x // 365)"
   ]
  },
  {
   "cell_type": "code",
   "execution_count": 18,
   "metadata": {},
   "outputs": [
    {
     "name": "stdout",
     "output_type": "stream",
     "text": [
      "<class 'pandas.core.frame.DataFrame'>\n",
      "Index: 49000 entries, 68681 to 15795\n",
      "Data columns (total 13 columns):\n",
      " #   Column       Non-Null Count  Dtype  \n",
      "---  ------       --------------  -----  \n",
      " 0   id           49000 non-null  int64  \n",
      " 1   age          49000 non-null  int64  \n",
      " 2   gender       49000 non-null  object \n",
      " 3   height       49000 non-null  int64  \n",
      " 4   weight       49000 non-null  float64\n",
      " 5   ap_hi        49000 non-null  int64  \n",
      " 6   ap_lo        49000 non-null  int64  \n",
      " 7   cholesterol  49000 non-null  object \n",
      " 8   gluc         49000 non-null  object \n",
      " 9   smoke        49000 non-null  int64  \n",
      " 10  alco         49000 non-null  int64  \n",
      " 11  active       49000 non-null  int64  \n",
      " 12  cardio       49000 non-null  int64  \n",
      "dtypes: float64(1), int64(9), object(3)\n",
      "memory usage: 5.2+ MB\n"
     ]
    }
   ],
   "source": [
    "df.info()"
   ]
  },
  {
   "cell_type": "code",
   "execution_count": 19,
   "metadata": {},
   "outputs": [
    {
     "data": {
      "text/html": [
       "<div>\n",
       "<style scoped>\n",
       "    .dataframe tbody tr th:only-of-type {\n",
       "        vertical-align: middle;\n",
       "    }\n",
       "\n",
       "    .dataframe tbody tr th {\n",
       "        vertical-align: top;\n",
       "    }\n",
       "\n",
       "    .dataframe thead th {\n",
       "        text-align: right;\n",
       "    }\n",
       "</style>\n",
       "<table border=\"1\" class=\"dataframe\">\n",
       "  <thead>\n",
       "    <tr style=\"text-align: right;\">\n",
       "      <th></th>\n",
       "      <th>id</th>\n",
       "      <th>age</th>\n",
       "      <th>gender</th>\n",
       "      <th>height</th>\n",
       "      <th>weight</th>\n",
       "      <th>ap_hi</th>\n",
       "      <th>ap_lo</th>\n",
       "      <th>cholesterol</th>\n",
       "      <th>gluc</th>\n",
       "      <th>smoke</th>\n",
       "      <th>alco</th>\n",
       "      <th>active</th>\n",
       "      <th>cardio</th>\n",
       "    </tr>\n",
       "  </thead>\n",
       "  <tbody>\n",
       "    <tr>\n",
       "      <th>68681</th>\n",
       "      <td>98125</td>\n",
       "      <td>55</td>\n",
       "      <td>female</td>\n",
       "      <td>160</td>\n",
       "      <td>64.0</td>\n",
       "      <td>120</td>\n",
       "      <td>90</td>\n",
       "      <td>well above normal</td>\n",
       "      <td>normal</td>\n",
       "      <td>0</td>\n",
       "      <td>0</td>\n",
       "      <td>1</td>\n",
       "      <td>1</td>\n",
       "    </tr>\n",
       "    <tr>\n",
       "      <th>19961</th>\n",
       "      <td>28510</td>\n",
       "      <td>62</td>\n",
       "      <td>male</td>\n",
       "      <td>167</td>\n",
       "      <td>65.0</td>\n",
       "      <td>120</td>\n",
       "      <td>80</td>\n",
       "      <td>well above normal</td>\n",
       "      <td>well above normal</td>\n",
       "      <td>0</td>\n",
       "      <td>0</td>\n",
       "      <td>0</td>\n",
       "      <td>0</td>\n",
       "    </tr>\n",
       "    <tr>\n",
       "      <th>11040</th>\n",
       "      <td>15795</td>\n",
       "      <td>62</td>\n",
       "      <td>female</td>\n",
       "      <td>160</td>\n",
       "      <td>66.0</td>\n",
       "      <td>120</td>\n",
       "      <td>90</td>\n",
       "      <td>normal</td>\n",
       "      <td>normal</td>\n",
       "      <td>0</td>\n",
       "      <td>0</td>\n",
       "      <td>1</td>\n",
       "      <td>1</td>\n",
       "    </tr>\n",
       "    <tr>\n",
       "      <th>27673</th>\n",
       "      <td>39560</td>\n",
       "      <td>62</td>\n",
       "      <td>female</td>\n",
       "      <td>163</td>\n",
       "      <td>55.0</td>\n",
       "      <td>125</td>\n",
       "      <td>90</td>\n",
       "      <td>well above normal</td>\n",
       "      <td>normal</td>\n",
       "      <td>0</td>\n",
       "      <td>0</td>\n",
       "      <td>1</td>\n",
       "      <td>1</td>\n",
       "    </tr>\n",
       "    <tr>\n",
       "      <th>22876</th>\n",
       "      <td>32677</td>\n",
       "      <td>59</td>\n",
       "      <td>female</td>\n",
       "      <td>158</td>\n",
       "      <td>85.0</td>\n",
       "      <td>150</td>\n",
       "      <td>80</td>\n",
       "      <td>well above normal</td>\n",
       "      <td>normal</td>\n",
       "      <td>0</td>\n",
       "      <td>0</td>\n",
       "      <td>1</td>\n",
       "      <td>1</td>\n",
       "    </tr>\n",
       "  </tbody>\n",
       "</table>\n",
       "</div>"
      ],
      "text/plain": [
       "          id  age  gender  height  weight  ap_hi  ap_lo        cholesterol  \\\n",
       "68681  98125   55  female     160    64.0    120     90  well above normal   \n",
       "19961  28510   62    male     167    65.0    120     80  well above normal   \n",
       "11040  15795   62  female     160    66.0    120     90             normal   \n",
       "27673  39560   62  female     163    55.0    125     90  well above normal   \n",
       "22876  32677   59  female     158    85.0    150     80  well above normal   \n",
       "\n",
       "                    gluc  smoke  alco  active  cardio  \n",
       "68681             normal      0     0       1       1  \n",
       "19961  well above normal      0     0       0       0  \n",
       "11040             normal      0     0       1       1  \n",
       "27673             normal      0     0       1       1  \n",
       "22876             normal      0     0       1       1  "
      ]
     },
     "execution_count": 19,
     "metadata": {},
     "output_type": "execute_result"
    }
   ],
   "source": [
    "df.head()"
   ]
  },
  {
   "cell_type": "markdown",
   "metadata": {},
   "source": [
    "#   traitement des outliers "
   ]
  },
  {
   "cell_type": "code",
   "execution_count": 20,
   "metadata": {},
   "outputs": [
    {
     "data": {
      "text/html": [
       "<div>\n",
       "<style scoped>\n",
       "    .dataframe tbody tr th:only-of-type {\n",
       "        vertical-align: middle;\n",
       "    }\n",
       "\n",
       "    .dataframe tbody tr th {\n",
       "        vertical-align: top;\n",
       "    }\n",
       "\n",
       "    .dataframe thead th {\n",
       "        text-align: right;\n",
       "    }\n",
       "</style>\n",
       "<table border=\"1\" class=\"dataframe\">\n",
       "  <thead>\n",
       "    <tr style=\"text-align: right;\">\n",
       "      <th></th>\n",
       "      <th>id</th>\n",
       "      <th>age</th>\n",
       "      <th>height</th>\n",
       "      <th>weight</th>\n",
       "      <th>ap_hi</th>\n",
       "      <th>ap_lo</th>\n",
       "      <th>smoke</th>\n",
       "      <th>alco</th>\n",
       "      <th>active</th>\n",
       "      <th>cardio</th>\n",
       "    </tr>\n",
       "  </thead>\n",
       "  <tbody>\n",
       "    <tr>\n",
       "      <th>count</th>\n",
       "      <td>49000.000000</td>\n",
       "      <td>49000.000000</td>\n",
       "      <td>49000.000000</td>\n",
       "      <td>49000.000000</td>\n",
       "      <td>49000.000000</td>\n",
       "      <td>49000.000000</td>\n",
       "      <td>49000.000000</td>\n",
       "      <td>49000.000000</td>\n",
       "      <td>49000.000000</td>\n",
       "      <td>49000.000000</td>\n",
       "    </tr>\n",
       "    <tr>\n",
       "      <th>mean</th>\n",
       "      <td>49922.798061</td>\n",
       "      <td>52.812735</td>\n",
       "      <td>164.351347</td>\n",
       "      <td>74.181439</td>\n",
       "      <td>128.893898</td>\n",
       "      <td>97.102347</td>\n",
       "      <td>0.089327</td>\n",
       "      <td>0.055265</td>\n",
       "      <td>0.803408</td>\n",
       "      <td>0.498776</td>\n",
       "    </tr>\n",
       "    <tr>\n",
       "      <th>std</th>\n",
       "      <td>28897.596101</td>\n",
       "      <td>6.774974</td>\n",
       "      <td>8.196510</td>\n",
       "      <td>14.377289</td>\n",
       "      <td>158.084444</td>\n",
       "      <td>200.210646</td>\n",
       "      <td>0.285217</td>\n",
       "      <td>0.228500</td>\n",
       "      <td>0.397425</td>\n",
       "      <td>0.500004</td>\n",
       "    </tr>\n",
       "    <tr>\n",
       "      <th>min</th>\n",
       "      <td>0.000000</td>\n",
       "      <td>29.000000</td>\n",
       "      <td>55.000000</td>\n",
       "      <td>22.000000</td>\n",
       "      <td>-140.000000</td>\n",
       "      <td>0.000000</td>\n",
       "      <td>0.000000</td>\n",
       "      <td>0.000000</td>\n",
       "      <td>0.000000</td>\n",
       "      <td>0.000000</td>\n",
       "    </tr>\n",
       "    <tr>\n",
       "      <th>25%</th>\n",
       "      <td>24916.000000</td>\n",
       "      <td>48.000000</td>\n",
       "      <td>159.000000</td>\n",
       "      <td>65.000000</td>\n",
       "      <td>120.000000</td>\n",
       "      <td>80.000000</td>\n",
       "      <td>0.000000</td>\n",
       "      <td>0.000000</td>\n",
       "      <td>1.000000</td>\n",
       "      <td>0.000000</td>\n",
       "    </tr>\n",
       "    <tr>\n",
       "      <th>50%</th>\n",
       "      <td>49938.500000</td>\n",
       "      <td>53.000000</td>\n",
       "      <td>165.000000</td>\n",
       "      <td>72.000000</td>\n",
       "      <td>120.000000</td>\n",
       "      <td>80.000000</td>\n",
       "      <td>0.000000</td>\n",
       "      <td>0.000000</td>\n",
       "      <td>1.000000</td>\n",
       "      <td>0.000000</td>\n",
       "    </tr>\n",
       "    <tr>\n",
       "      <th>75%</th>\n",
       "      <td>74936.500000</td>\n",
       "      <td>58.000000</td>\n",
       "      <td>170.000000</td>\n",
       "      <td>82.000000</td>\n",
       "      <td>140.000000</td>\n",
       "      <td>90.000000</td>\n",
       "      <td>0.000000</td>\n",
       "      <td>0.000000</td>\n",
       "      <td>1.000000</td>\n",
       "      <td>1.000000</td>\n",
       "    </tr>\n",
       "    <tr>\n",
       "      <th>max</th>\n",
       "      <td>99999.000000</td>\n",
       "      <td>64.000000</td>\n",
       "      <td>250.000000</td>\n",
       "      <td>200.000000</td>\n",
       "      <td>14020.000000</td>\n",
       "      <td>11000.000000</td>\n",
       "      <td>1.000000</td>\n",
       "      <td>1.000000</td>\n",
       "      <td>1.000000</td>\n",
       "      <td>1.000000</td>\n",
       "    </tr>\n",
       "  </tbody>\n",
       "</table>\n",
       "</div>"
      ],
      "text/plain": [
       "                 id           age        height        weight         ap_hi  \\\n",
       "count  49000.000000  49000.000000  49000.000000  49000.000000  49000.000000   \n",
       "mean   49922.798061     52.812735    164.351347     74.181439    128.893898   \n",
       "std    28897.596101      6.774974      8.196510     14.377289    158.084444   \n",
       "min        0.000000     29.000000     55.000000     22.000000   -140.000000   \n",
       "25%    24916.000000     48.000000    159.000000     65.000000    120.000000   \n",
       "50%    49938.500000     53.000000    165.000000     72.000000    120.000000   \n",
       "75%    74936.500000     58.000000    170.000000     82.000000    140.000000   \n",
       "max    99999.000000     64.000000    250.000000    200.000000  14020.000000   \n",
       "\n",
       "              ap_lo         smoke          alco        active        cardio  \n",
       "count  49000.000000  49000.000000  49000.000000  49000.000000  49000.000000  \n",
       "mean      97.102347      0.089327      0.055265      0.803408      0.498776  \n",
       "std      200.210646      0.285217      0.228500      0.397425      0.500004  \n",
       "min        0.000000      0.000000      0.000000      0.000000      0.000000  \n",
       "25%       80.000000      0.000000      0.000000      1.000000      0.000000  \n",
       "50%       80.000000      0.000000      0.000000      1.000000      0.000000  \n",
       "75%       90.000000      0.000000      0.000000      1.000000      1.000000  \n",
       "max    11000.000000      1.000000      1.000000      1.000000      1.000000  "
      ]
     },
     "execution_count": 20,
     "metadata": {},
     "output_type": "execute_result"
    }
   ],
   "source": [
    "df.describe()"
   ]
  },
  {
   "cell_type": "code",
   "execution_count": 21,
   "metadata": {},
   "outputs": [
    {
     "data": {
      "text/plain": [
       "Index(['id', 'age', 'gender', 'height', 'weight', 'ap_hi', 'ap_lo',\n",
       "       'cholesterol', 'gluc', 'smoke', 'alco', 'active', 'cardio'],\n",
       "      dtype='object')"
      ]
     },
     "execution_count": 21,
     "metadata": {},
     "output_type": "execute_result"
    }
   ],
   "source": [
    "df.columns"
   ]
  },
  {
   "cell_type": "code",
   "execution_count": 22,
   "metadata": {},
   "outputs": [
    {
     "name": "stdout",
     "output_type": "stream",
     "text": [
      "Nombre de valeurs aberrantes dans la colonne 'age': 4\n",
      "Nombre de valeurs aberrantes dans la colonne 'height': 347\n",
      "Nombre de valeurs aberrantes dans la colonne 'weight': 1243\n",
      "Nombre de valeurs aberrantes dans la colonne 'ap_hi': 1014\n",
      "Nombre de valeurs aberrantes dans la colonne 'ap_lo': 3240\n",
      "Nombre de valeurs aberrantes dans la colonne 'smoke': 4377\n",
      "Nombre de valeurs aberrantes dans la colonne 'alco': 2708\n",
      "Nombre de valeurs aberrantes dans la colonne 'active': 9633\n",
      "Nombre de valeurs aberrantes dans la colonne 'cardio': 0\n"
     ]
    }
   ],
   "source": [
    "def valAber(df):\n",
    "  \n",
    "    aberrant_counts = {}\n",
    "    \n",
    "    for col in df.columns:\n",
    "        q3 = df[col].quantile(0.75)\n",
    "        q1 = df[col].quantile(0.25)\n",
    "        IQR = q3 - q1\n",
    "        lower_limit = q1 - (IQR * 1.5)\n",
    "        upper_limit = q3 + (IQR * 1.5)\n",
    "        num_aberrant = len(df[(df[col] < lower_limit) | (df[col] > upper_limit)])\n",
    "        aberrant_counts[col] = num_aberrant\n",
    "    for col, count in aberrant_counts.items():\n",
    "        print(f\"Nombre de valeurs aberrantes dans la colonne '{col}': {count}\")\n",
    "\n",
    "\n",
    "l=['age', 'height', 'weight', 'ap_hi', 'ap_lo','smoke', 'alco', 'active', 'cardio']\n",
    "valAber(df[l])\n"
   ]
  },
  {
   "cell_type": "markdown",
   "metadata": {},
   "source": [
    "#   remplacer les vals aberantes par la mediane"
   ]
  },
  {
   "cell_type": "code",
   "execution_count": 23,
   "metadata": {},
   "outputs": [],
   "source": [
    "def replaceAberrantWithMedian(df, columns):\n",
    "    for col in columns:\n",
    "        q3 = df[col].quantile(0.75)\n",
    "        q1 = df[col].quantile(0.25)\n",
    "        IQR = q3 - q1\n",
    "        lower_limit = q1 - (IQR * 1.5)\n",
    "        upper_limit = q3 + (IQR * 1.5)\n",
    "        \n",
    "        df[col] = df[col].clip(lower_limit, upper_limit)\n"
   ]
  },
  {
   "cell_type": "code",
   "execution_count": 24,
   "metadata": {},
   "outputs": [],
   "source": [
    "replaceAberrantWithMedian(df,l)"
   ]
  },
  {
   "cell_type": "code",
   "execution_count": 25,
   "metadata": {},
   "outputs": [
    {
     "name": "stdout",
     "output_type": "stream",
     "text": [
      "Nombre de valeurs aberrantes dans la colonne 'age': 0\n",
      "Nombre de valeurs aberrantes dans la colonne 'height': 0\n",
      "Nombre de valeurs aberrantes dans la colonne 'weight': 0\n",
      "Nombre de valeurs aberrantes dans la colonne 'ap_hi': 0\n",
      "Nombre de valeurs aberrantes dans la colonne 'ap_lo': 0\n",
      "Nombre de valeurs aberrantes dans la colonne 'smoke': 0\n",
      "Nombre de valeurs aberrantes dans la colonne 'alco': 0\n",
      "Nombre de valeurs aberrantes dans la colonne 'active': 0\n",
      "Nombre de valeurs aberrantes dans la colonne 'cardio': 0\n"
     ]
    }
   ],
   "source": [
    "valAber(df[l])"
   ]
  },
  {
   "cell_type": "markdown",
   "metadata": {},
   "source": [
    "#   supprimer id"
   ]
  },
  {
   "cell_type": "code",
   "execution_count": 26,
   "metadata": {},
   "outputs": [],
   "source": [
    "df.drop(columns=['id'],inplace=True)"
   ]
  },
  {
   "cell_type": "code",
   "execution_count": 27,
   "metadata": {},
   "outputs": [
    {
     "data": {
      "text/plain": [
       "Index(['age', 'gender', 'height', 'weight', 'ap_hi', 'ap_lo', 'cholesterol',\n",
       "       'gluc', 'smoke', 'alco', 'active', 'cardio'],\n",
       "      dtype='object')"
      ]
     },
     "execution_count": 27,
     "metadata": {},
     "output_type": "execute_result"
    }
   ],
   "source": [
    "df.columns"
   ]
  },
  {
   "cell_type": "code",
   "execution_count": 28,
   "metadata": {},
   "outputs": [
    {
     "data": {
      "text/html": [
       "<div>\n",
       "<style scoped>\n",
       "    .dataframe tbody tr th:only-of-type {\n",
       "        vertical-align: middle;\n",
       "    }\n",
       "\n",
       "    .dataframe tbody tr th {\n",
       "        vertical-align: top;\n",
       "    }\n",
       "\n",
       "    .dataframe thead th {\n",
       "        text-align: right;\n",
       "    }\n",
       "</style>\n",
       "<table border=\"1\" class=\"dataframe\">\n",
       "  <thead>\n",
       "    <tr style=\"text-align: right;\">\n",
       "      <th></th>\n",
       "      <th>age</th>\n",
       "      <th>gender</th>\n",
       "      <th>height</th>\n",
       "      <th>weight</th>\n",
       "      <th>ap_hi</th>\n",
       "      <th>ap_lo</th>\n",
       "      <th>cholesterol</th>\n",
       "      <th>gluc</th>\n",
       "      <th>smoke</th>\n",
       "      <th>alco</th>\n",
       "      <th>active</th>\n",
       "      <th>cardio</th>\n",
       "    </tr>\n",
       "  </thead>\n",
       "  <tbody>\n",
       "    <tr>\n",
       "      <th>68681</th>\n",
       "      <td>55</td>\n",
       "      <td>female</td>\n",
       "      <td>160.0</td>\n",
       "      <td>64.0</td>\n",
       "      <td>120</td>\n",
       "      <td>90</td>\n",
       "      <td>well above normal</td>\n",
       "      <td>normal</td>\n",
       "      <td>0</td>\n",
       "      <td>0</td>\n",
       "      <td>1</td>\n",
       "      <td>1</td>\n",
       "    </tr>\n",
       "    <tr>\n",
       "      <th>19961</th>\n",
       "      <td>62</td>\n",
       "      <td>male</td>\n",
       "      <td>167.0</td>\n",
       "      <td>65.0</td>\n",
       "      <td>120</td>\n",
       "      <td>80</td>\n",
       "      <td>well above normal</td>\n",
       "      <td>well above normal</td>\n",
       "      <td>0</td>\n",
       "      <td>0</td>\n",
       "      <td>1</td>\n",
       "      <td>0</td>\n",
       "    </tr>\n",
       "    <tr>\n",
       "      <th>11040</th>\n",
       "      <td>62</td>\n",
       "      <td>female</td>\n",
       "      <td>160.0</td>\n",
       "      <td>66.0</td>\n",
       "      <td>120</td>\n",
       "      <td>90</td>\n",
       "      <td>normal</td>\n",
       "      <td>normal</td>\n",
       "      <td>0</td>\n",
       "      <td>0</td>\n",
       "      <td>1</td>\n",
       "      <td>1</td>\n",
       "    </tr>\n",
       "    <tr>\n",
       "      <th>27673</th>\n",
       "      <td>62</td>\n",
       "      <td>female</td>\n",
       "      <td>163.0</td>\n",
       "      <td>55.0</td>\n",
       "      <td>125</td>\n",
       "      <td>90</td>\n",
       "      <td>well above normal</td>\n",
       "      <td>normal</td>\n",
       "      <td>0</td>\n",
       "      <td>0</td>\n",
       "      <td>1</td>\n",
       "      <td>1</td>\n",
       "    </tr>\n",
       "    <tr>\n",
       "      <th>22876</th>\n",
       "      <td>59</td>\n",
       "      <td>female</td>\n",
       "      <td>158.0</td>\n",
       "      <td>85.0</td>\n",
       "      <td>150</td>\n",
       "      <td>80</td>\n",
       "      <td>well above normal</td>\n",
       "      <td>normal</td>\n",
       "      <td>0</td>\n",
       "      <td>0</td>\n",
       "      <td>1</td>\n",
       "      <td>1</td>\n",
       "    </tr>\n",
       "  </tbody>\n",
       "</table>\n",
       "</div>"
      ],
      "text/plain": [
       "       age  gender  height  weight  ap_hi  ap_lo        cholesterol  \\\n",
       "68681   55  female   160.0    64.0    120     90  well above normal   \n",
       "19961   62    male   167.0    65.0    120     80  well above normal   \n",
       "11040   62  female   160.0    66.0    120     90             normal   \n",
       "27673   62  female   163.0    55.0    125     90  well above normal   \n",
       "22876   59  female   158.0    85.0    150     80  well above normal   \n",
       "\n",
       "                    gluc  smoke  alco  active  cardio  \n",
       "68681             normal      0     0       1       1  \n",
       "19961  well above normal      0     0       1       0  \n",
       "11040             normal      0     0       1       1  \n",
       "27673             normal      0     0       1       1  \n",
       "22876             normal      0     0       1       1  "
      ]
     },
     "execution_count": 28,
     "metadata": {},
     "output_type": "execute_result"
    }
   ],
   "source": [
    "df.head()"
   ]
  }
 ],
 "metadata": {
  "kernelspec": {
   "display_name": "Python 3",
   "language": "python",
   "name": "python3"
  },
  "language_info": {
   "codemirror_mode": {
    "name": "ipython",
    "version": 3
   },
   "file_extension": ".py",
   "mimetype": "text/x-python",
   "name": "python",
   "nbconvert_exporter": "python",
   "pygments_lexer": "ipython3",
   "version": "3.11.5"
  }
 },
 "nbformat": 4,
 "nbformat_minor": 2
}
